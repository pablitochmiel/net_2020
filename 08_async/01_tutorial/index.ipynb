{
 "cells": [
  {
   "cell_type": "markdown",
   "metadata": {},
   "source": [
    "# NET 2020"
   ]
  },
  {
   "cell_type": "markdown",
   "metadata": {},
   "source": [
    "## 8. Async"
   ]
  },
  {
   "cell_type": "markdown",
   "metadata": {},
   "source": [
    "### 8.1 Tutorial"
   ]
  },
  {
   "cell_type": "markdown",
   "metadata": {},
   "source": [
    "Asynchronous code example:"
   ]
  },
  {
   "cell_type": "code",
   "execution_count": null,
   "metadata": {},
   "outputs": [],
   "source": [
    "public async Task<string> GetHelloAsync() {\n",
    "    await Task.Delay(1000);\n",
    "    return \"Hello!\";\n",
    "}"
   ]
  },
  {
   "cell_type": "code",
   "execution_count": null,
   "metadata": {},
   "outputs": [],
   "source": [
    "var task = GetHelloAsync();\n",
    "Console.WriteLine(\"Non blocking...\");\n",
    "var hello = await task;\n",
    "Console.WriteLine(hello);"
   ]
  },
  {
   "cell_type": "markdown",
   "metadata": {},
   "source": [
    "Canceling a task:"
   ]
  },
  {
   "cell_type": "code",
   "execution_count": null,
   "metadata": {},
   "outputs": [],
   "source": [
    "using System.Threading;"
   ]
  },
  {
   "cell_type": "code",
   "execution_count": null,
   "metadata": {},
   "outputs": [],
   "source": [
    "public async Task<string> GetHelloAsyncWithCancellationToken(CancellationToken cancellationToken) {\n",
    "    await Task.Delay(5000, cancellationToken);\n",
    "    return \"Hello!\";\n",
    "}"
   ]
  },
  {
   "cell_type": "code",
   "execution_count": null,
   "metadata": {},
   "outputs": [],
   "source": [
    "var cancellationTokenSource = new CancellationTokenSource();\n",
    "var task = GetHelloAsyncWithCancellationToken(cancellationTokenSource.Token);\n",
    "cancellationTokenSource.Cancel();"
   ]
  },
  {
   "cell_type": "code",
   "execution_count": null,
   "metadata": {},
   "outputs": [],
   "source": [
    "try {\n",
    "    var hello = await task;\n",
    "} catch (Exception exception) {\n",
    "    Console.WriteLine(exception.GetType());\n",
    "}"
   ]
  },
  {
   "cell_type": "markdown",
   "metadata": {},
   "source": [
    "Exception in a task:"
   ]
  },
  {
   "cell_type": "code",
   "execution_count": null,
   "metadata": {},
   "outputs": [],
   "source": [
    "public async Task<string> GetHelloAsyncWithException(int parts) {\n",
    "    var result = \"This is a very long string...\";\n",
    "    var position = result.Length / parts;\n",
    "    return result.Substring(0, position);\n",
    "}"
   ]
  },
  {
   "cell_type": "code",
   "execution_count": null,
   "metadata": {},
   "outputs": [],
   "source": [
    "var task = GetHelloAsyncWithException(5);\n",
    "Console.WriteLine(\"Non blocking...\");\n",
    "var hello = await task;\n",
    "Console.WriteLine(hello);"
   ]
  },
  {
   "cell_type": "code",
   "execution_count": null,
   "metadata": {},
   "outputs": [],
   "source": [
    "var task = GetHelloAsyncWithException(0);\n",
    "Console.WriteLine(\"Non blocking...\");\n",
    "try {\n",
    "    var hello = await task;\n",
    "} catch (Exception exception) {\n",
    "    Console.WriteLine(exception.GetType());\n",
    "}"
   ]
  },
  {
   "cell_type": "markdown",
   "metadata": {},
   "source": [
    "Waiting for any task to finish:"
   ]
  },
  {
   "cell_type": "code",
   "execution_count": null,
   "metadata": {},
   "outputs": [],
   "source": [
    "public async Task<string> GetStringAsync(string what, int delay) {\n",
    "    await Task.Delay(delay);\n",
    "    return what;\n",
    "}"
   ]
  },
  {
   "cell_type": "code",
   "execution_count": null,
   "metadata": {},
   "outputs": [],
   "source": [
    "var tasks = new List<Task<string>> {\n",
    "    GetStringAsync(\"How\", 1000), \n",
    "    GetStringAsync(\"are\", 1100), \n",
    "    GetStringAsync(\"you\", 2300), \n",
    "    GetStringAsync(\"?\", 2500),\n",
    "};"
   ]
  },
  {
   "cell_type": "code",
   "execution_count": null,
   "metadata": {},
   "outputs": [],
   "source": [
    "while (tasks.Count > 0) {\n",
    "    var task = await Task.WhenAny(tasks);\n",
    "    tasks.Remove(task);\n",
    "    var result = await task;\n",
    "    Console.WriteLine(result);\n",
    "}"
   ]
  },
  {
   "cell_type": "markdown",
   "metadata": {},
   "source": [
    "HTTP client example:"
   ]
  },
  {
   "cell_type": "code",
   "execution_count": null,
   "metadata": {},
   "outputs": [],
   "source": [
    "using System.Net.Http;"
   ]
  },
  {
   "cell_type": "code",
   "execution_count": null,
   "metadata": {},
   "outputs": [],
   "source": [
    "var httpClient = new HttpClient();"
   ]
  },
  {
   "cell_type": "code",
   "execution_count": null,
   "metadata": {},
   "outputs": [],
   "source": [
    "var uri = new Uri(\"https://google.com\");"
   ]
  },
  {
   "cell_type": "code",
   "execution_count": null,
   "metadata": {},
   "outputs": [],
   "source": [
    "var response = httpClient.GetAsync(uri, CancellationToken.None);\n",
    "Console.WriteLine(\"Non blocking...\");\n",
    "var result = await response;\n",
    "Console.WriteLine(result.StatusCode);"
   ]
  }
 ],
 "metadata": {
  "kernelspec": {
   "display_name": ".NET (C#)",
   "language": "C#",
   "name": ".net-csharp"
  },
  "language_info": {
   "file_extension": ".cs",
   "mimetype": "text/x-csharp",
   "name": "C#",
   "pygments_lexer": "csharp",
   "version": "8.0"
  }
 },
 "nbformat": 4,
 "nbformat_minor": 4
}
