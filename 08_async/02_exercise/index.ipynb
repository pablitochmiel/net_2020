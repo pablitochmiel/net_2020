{
 "cells": [
  {
   "cell_type": "markdown",
   "metadata": {},
   "source": [
    "# NET 2020"
   ]
  },
  {
   "cell_type": "markdown",
   "metadata": {},
   "source": [
    "## 8. Async"
   ]
  },
  {
   "cell_type": "markdown",
   "metadata": {},
   "source": [
    "### 8.2. Exercise"
   ]
  },
  {
   "cell_type": "markdown",
   "metadata": {},
   "source": [
    "Implement missing classes:\n",
    "\n",
    "1. Tests should pass with 100% coverage. \n",
    "2. Command line application should work.\n",
    "3. There should be no inspection issues\n",
    "\n",
    "Remember first to commit the unchanged code and then the solution in a separate commit!\n",
    "\n",
    "To start editing code, run:"
   ]
  },
  {
   "cell_type": "code",
   "execution_count": null,
   "metadata": {},
   "outputs": [],
   "source": [
    "! rider project/project.sln"
   ]
  },
  {
   "cell_type": "markdown",
   "metadata": {},
   "source": [
    "UML:"
   ]
  },
  {
   "cell_type": "code",
   "execution_count": 3,
   "metadata": {},
   "outputs": [],
   "source": [
    "import iplantuml;"
   ]
  },
  {
   "cell_type": "code",
   "execution_count": null,
   "metadata": {},
   "outputs": [],
   "source": [
    "%%plantuml\n",
    "\n",
    "@startuml\n",
    "\n",
    "interface IClient {\n",
    "    + Task<string> GetAsync(Uri uri, CancellationToken token)\n",
    "}\n",
    "\n",
    "class Client {\n",
    "    - readonly HttpClient _httpClient\n",
    "    + async Task<string> GetAsync(Uri uri, CancellationToken token)\n",
    "}\n",
    "\n",
    "IClient <|-- Client\n",
    "\n",
    "interface ITime {\n",
    "    + Task Delay(int millisecondsDelay, CancellationToken cancellationToken)\n",
    "}\n",
    "\n",
    "class Time {\n",
    "    + Task Delay(int millisecondsDelay, CancellationToken cancellationToken)\n",
    "}\n",
    "\n",
    "ITime <|-- Time\n",
    "\n",
    "abstract class Command {\n",
    "    + virtual string Name { get; }\n",
    "    + abstract Task<string> RunAsync(CancellationToken cancellationToken)\n",
    "    + virtual IEnumerable<Command> Continuations(string result, ICommandFactory commandFactory)\n",
    "}\n",
    "\n",
    "class NullCommand {\n",
    "    + override string Name { get; }\n",
    "    + override Task<string> RunAsync(CancellationToken cancellationToken)\n",
    "}\n",
    "Command <|-- NullCommand\n",
    "\n",
    "class DelayedPrintCommand {\n",
    "    + int Delay { get; }\n",
    "    + string Message { get; }\n",
    "    - readonly ITime _time\n",
    "    + override string Name { get; }\n",
    "    + override async Task<string> RunAsync(CancellationToken cancellationToken)\n",
    "}\n",
    "Command <|-- DelayedPrintCommand\n",
    "\n",
    "class SizeCommand {\n",
    "    - readonly IClient _client\n",
    "    + Uri Uri { get; }\n",
    "    + override string Name { get; }\n",
    "    + override async Task<string> RunAsync(CancellationToken cancellationToken)\n",
    "}\n",
    "Command <|-- SizeCommand\n",
    "\n",
    "class InputCommand {\n",
    "    + override string Name { get; }\n",
    "    + override async Task<string> RunAsync(CancellationToken cancellationToken)\n",
    "    + override IEnumerable<Command> Continuations(string result, ICommandFactory commandFactory)\n",
    "}\n",
    "Command <|-- InputCommand\n",
    "\n",
    "interface ICommandFactory {\n",
    "    + CancellationTokenSource CancellationTokenSource { get; }\n",
    "    + Command Create(params string[] arguments)\n",
    "}\n",
    "\n",
    "class CommandFactory {\n",
    "    + CancellationTokenSource CancellationTokenSource { get; }\n",
    "    + Command Create(params string[] arguments)\n",
    "}\n",
    "ICommandFactory <|-- CommandFactory\n",
    "\n",
    "class Engine {\n",
    "    - readonly ICommandFactory _commandFactory\n",
    "    - readonly List<Command> _commands\n",
    "    - readonly Dictionary<Task<string>, Command> _taskCommands\n",
    "    - readonly List<Task<string>> _tasks\n",
    "    + async Task RunAsync()\n",
    "}\n",
    "\n",
    "class Program <<static>> {\n",
    "    - static async Task Main()\n",
    "}\n",
    "\n",
    "DelayedPrintCommand o-- ITime\n",
    "SizeCommand o-- IClient\n",
    "InputCommand o-- ICommandFactory\n",
    "Engine o-- \"*\" Command\n",
    "Engine o-- ICommandFactory\n",
    "\n",
    "CommandFactory ..> NullCommand : <<creates>>\n",
    "CommandFactory ..> InputCommand : <<creates>>\n",
    "CommandFactory ..> DelayedPrintCommand : <<creates>>\n",
    "CommandFactory ..> SizeCommand : <<creates>>\n",
    "Program ..> CommandFactory : <<creates>>\n",
    "Program ..> Engine : <<creates>>\n",
    "\n",
    "@enduml"
   ]
  },
  {
   "cell_type": "code",
   "execution_count": null,
   "metadata": {},
   "outputs": [],
   "source": []
  }
 ],
 "metadata": {
  "kernelspec": {
   "display_name": "Python 3",
   "language": "python",
   "name": "python3"
  },
  "language_info": {
   "codemirror_mode": {
    "name": "ipython",
    "version": 3
   },
   "file_extension": ".py",
   "mimetype": "text/x-python",
   "name": "python",
   "nbconvert_exporter": "python",
   "pygments_lexer": "ipython3",
   "version": "3.8.3"
  }
 },
 "nbformat": 4,
 "nbformat_minor": 4
}
