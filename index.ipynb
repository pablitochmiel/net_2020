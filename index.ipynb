{
 "cells": [
  {
   "cell_type": "markdown",
   "metadata": {},
   "source": [
    "# NET 2020"
   ]
  },
  {
   "cell_type": "markdown",
   "metadata": {},
   "source": [
    "<img src=\"https://github.com/dotnet/brand/raw/master/logo/dotnet-logo.png\" width=\"30%\"/>"
   ]
  },
  {
   "cell_type": "markdown",
   "metadata": {},
   "source": [
    "Welcome to the .NET course!"
   ]
  },
  {
   "cell_type": "markdown",
   "metadata": {},
   "source": [
    "The [Jupyter](https://jupyter.org/) notebooks will be used throughout the course to organise the exercises.  The instructions will be usually minimal, and the focus will be put on practical coding aspects. There will be two types of notebooks used in .NET course: tutorial notebooks with bash commands (Python 3 kernel) and notebooks with pure C# code (.NET C# kernel). The type of used kernel can be found in the upper-right corner."
   ]
  },
  {
   "cell_type": "markdown",
   "metadata": {},
   "source": [
    "To start working with the course material, select one of below topics:\n",
    "\n",
    "01. [Platform](01_platform/index.ipynb)\n",
    "02. [Object Oriented](02_object_oriented/index.ipynb)\n",
    "03. [Generics](03_generics/index.ipynb)\n",
    "04. [Generators](04_generators/index.ipynb)\n",
    "05. [Lambdas, delegates, events](05_lambdas_delegates_and_events/index.ipynb)"
   ]
  },
  {
   "cell_type": "markdown",
   "metadata": {},
   "source": [
    "To open all non-tutorial projects in Rider IDE:"
   ]
  },
  {
   "cell_type": "code",
   "execution_count": null,
   "metadata": {},
   "outputs": [],
   "source": [
    "! rider net_2020.sln"
   ]
  }
 ],
 "metadata": {
  "kernelspec": {
   "display_name": "Python 3",
   "language": "python",
   "name": "python3"
  },
  "language_info": {
   "codemirror_mode": {
    "name": "ipython",
    "version": 3
   },
   "file_extension": ".py",
   "mimetype": "text/x-python",
   "name": "python",
   "nbconvert_exporter": "python",
   "pygments_lexer": "ipython3",
   "version": "3.8.3"
  }
 },
 "nbformat": 4,
 "nbformat_minor": 4
}
