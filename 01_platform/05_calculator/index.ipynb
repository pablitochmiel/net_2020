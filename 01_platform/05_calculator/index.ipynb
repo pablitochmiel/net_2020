{
 "cells": [
  {
   "cell_type": "markdown",
   "metadata": {},
   "source": [
    "# NET 2020"
   ]
  },
  {
   "cell_type": "markdown",
   "metadata": {},
   "source": [
    "## 1. Platform"
   ]
  },
  {
   "cell_type": "markdown",
   "metadata": {},
   "source": [
    "### 1.5. Calculator"
   ]
  },
  {
   "cell_type": "markdown",
   "metadata": {},
   "source": [
    "This exercise aims to create and test a simple calculator application.\n",
    "\n",
    "The solution should be divided into three projects:\n",
    "\n",
    "1. ```Utils``` (netstandard2.1) - library containing a ```Calculator``` class which can be used in following way:\n",
    "```c#\n",
    "var calculator = new Calculator(20, 30);\n",
    "var sum = calculator.Add();\n",
    "```\n",
    "2. ```App``` (netcoreapp3.1) - command line interface supporing following cmmands:\n",
    "- Addition: ```dotnet run 1 add 2``` (output ```1 add 2 = 3```)\n",
    "- Subtraction: ```dotnet run 3 sub 2``` (output ```3 sub 2 = 1```)\n",
    "- Multiplication: ```dotnet run 2 mul 2``` (output ```2 mul 2 = 4```)\n",
    "- Divisioin: ```dotnet run 4 div 2``` (output ```4 div 2 = 2```)\n",
    "3. ```Test``` (netcoreapp3.1) - xUnit project with tests for the library\n",
    "\n",
    "Expected project structure:\n",
    "\n",
    "```\n",
    "project/\n",
    "├── App\n",
    "│   ├── App.csproj\n",
    "│   └── Program.cs\n",
    "├── project.sln\n",
    "├── Test\n",
    "│   ├── CalculatorTest.cs\n",
    "│   └── Test.csproj\n",
    "└── Utils\n",
    "    ├── Calculator.cs\n",
    "    └── Utils.csproj\n",
    "\n",
    "3 directories, 7 files\n",
    "```\n",
    "\n",
    "Each project in solution should:\n",
    "\n",
    "1. Use ```Microsoft.CodeAnalysis.FxCopAnalyzers``` package\n",
    "2. Treat warnings as errors: ```<TreatWarningsAsErrors>true</TreatWarningsAsErrors>```\n",
    "3. The string localisation warnings can be disabled: ```<NoWarn>CA1303</NoWarn>```\n",
    "4. Latest version of the language should be used: ```<LangVersion>preview</LangVersion>```\n",
    "5. Nullable references should be enabled: ```<Nullable>enable</Nullable>```\n",
    "\n",
    "The project should have 100% coverage, and there should be no warnings or hints visible in the Rider IDE.\n",
    "\n",
    "The ```Main``` function can be excluded from coverage using the ```ExcludeFromCodeCoverage``` anotation."
   ]
  },
  {
   "cell_type": "code",
   "execution_count": 1,
   "metadata": {},
   "outputs": [],
   "source": [
    "import iplantuml"
   ]
  },
  {
   "cell_type": "markdown",
   "metadata": {},
   "source": [
    "Class diagram:"
   ]
  },
  {
   "cell_type": "code",
   "execution_count": 2,
   "metadata": {
    "scrolled": true
   },
   "outputs": [
    {
     "data": {
      "image/svg+xml": [
       "<svg xmlns=\"http://www.w3.org/2000/svg\" xmlns:xlink=\"http://www.w3.org/1999/xlink\" contentScriptType=\"application/ecmascript\" contentStyleType=\"text/css\" height=\"235px\" preserveAspectRatio=\"none\" style=\"width:371px;height:235px;\" version=\"1.1\" viewBox=\"0 0 371 235\" width=\"371px\" zoomAndPan=\"magnify\"><defs><filter height=\"300%\" id=\"fljd2hg74opxa\" width=\"300%\" x=\"-1\" y=\"-1\"><feGaussianBlur result=\"blurOut\" stdDeviation=\"2.0\"/><feColorMatrix in=\"blurOut\" result=\"blurOut2\" type=\"matrix\" values=\"0 0 0 0 0 0 0 0 0 0 0 0 0 0 0 0 0 0 .4 0\"/><feOffset dx=\"4.0\" dy=\"4.0\" in=\"blurOut2\" result=\"blurOut3\"/><feBlend in=\"SourceGraphic\" in2=\"blurOut3\" mode=\"normal\"/></filter></defs><g><!--MD5=[7e40339c58605559321960399585b560]\n",
       "cluster Utils--><polygon fill=\"#FFFFFF\" filter=\"url(#fljd2hg74opxa)\" points=\"231,34,275,34,282,56.2969,354,56.2969,354,211,231,211,231,34\" style=\"stroke: #000000; stroke-width: 1.5;\"/><line style=\"stroke: #000000; stroke-width: 1.5;\" x1=\"231\" x2=\"282\" y1=\"56.2969\" y2=\"56.2969\"/><text fill=\"#000000\" font-family=\"sans-serif\" font-size=\"14\" font-weight=\"bold\" lengthAdjust=\"spacingAndGlyphs\" textLength=\"38\" x=\"235\" y=\"48.9951\">Utils</text><!--MD5=[975d7fda8cf98ff1a26ca528bf10cecf]\n",
       "cluster App--><polygon fill=\"#FFFFFF\" filter=\"url(#fljd2hg74opxa)\" points=\"33.5,6,70.5,6,77.5,28.2969,147.5,28.2969,147.5,105,33.5,105,33.5,6\" style=\"stroke: #000000; stroke-width: 1.5;\"/><line style=\"stroke: #000000; stroke-width: 1.5;\" x1=\"33.5\" x2=\"77.5\" y1=\"28.2969\" y2=\"28.2969\"/><text fill=\"#000000\" font-family=\"sans-serif\" font-size=\"14\" font-weight=\"bold\" lengthAdjust=\"spacingAndGlyphs\" textLength=\"31\" x=\"37.5\" y=\"20.9951\">App</text><!--MD5=[599b346dd6cce547b90978a220dfc604]\n",
       "cluster Test--><polygon fill=\"#FFFFFF\" filter=\"url(#fljd2hg74opxa)\" points=\"16,129,59,129,66,151.2969,165,151.2969,165,228,16,228,16,129\" style=\"stroke: #000000; stroke-width: 1.5;\"/><line style=\"stroke: #000000; stroke-width: 1.5;\" x1=\"16\" x2=\"66\" y1=\"151.2969\" y2=\"151.2969\"/><text fill=\"#000000\" font-family=\"sans-serif\" font-size=\"14\" font-weight=\"bold\" lengthAdjust=\"spacingAndGlyphs\" textLength=\"37\" x=\"20\" y=\"143.9951\">Test</text><!--MD5=[e6f67585185a4b3ef1aae8f414a63962]\n",
       "class Calculator--><rect codeLine=\"4\" fill=\"#FEFECE\" filter=\"url(#fljd2hg74opxa)\" height=\"124.8281\" id=\"Calculator\" style=\"stroke: #A80036; stroke-width: 1.5;\" width=\"91\" x=\"247\" y=\"69.5\"/><ellipse cx=\"262\" cy=\"85.5\" fill=\"#ADD1B2\" rx=\"11\" ry=\"11\" style=\"stroke: #A80036; stroke-width: 1.0;\"/><path d=\"M264.3438,81.1719 C263.4063,80.7344 262.8125,80.5938 261.9375,80.5938 C259.3125,80.5938 257.3125,82.6719 257.3125,85.3906 L257.3125,86.5156 C257.3125,89.0938 259.4219,90.9844 262.3125,90.9844 C263.5313,90.9844 264.6875,90.6875 265.4375,90.1406 C266.0156,89.7344 266.3438,89.2813 266.3438,88.8906 C266.3438,88.4375 265.9531,88.0469 265.4844,88.0469 C265.2656,88.0469 265.0625,88.125 264.875,88.3125 C264.4219,88.7969 264.4219,88.7969 264.2344,88.8906 C263.8125,89.1563 263.125,89.2813 262.3594,89.2813 C260.3125,89.2813 259.0156,88.1875 259.0156,86.4844 L259.0156,85.3906 C259.0156,83.6094 260.2656,82.2969 262,82.2969 C262.5781,82.2969 263.1875,82.4531 263.6563,82.7031 C264.1406,82.9844 264.3125,83.2031 264.4063,83.6094 C264.4688,84.0156 264.5,84.1406 264.6406,84.2656 C264.7813,84.4063 265.0156,84.5156 265.2344,84.5156 C265.5,84.5156 265.7656,84.375 265.9375,84.1563 C266.0469,84 266.0781,83.8125 266.0781,83.3906 L266.0781,81.9688 C266.0781,81.5313 266.0625,81.4063 265.9688,81.25 C265.8125,80.9844 265.5313,80.8438 265.2344,80.8438 C264.9375,80.8438 264.7344,80.9375 264.5156,81.25 L264.3438,81.1719 Z \"/><text fill=\"#000000\" font-family=\"sans-serif\" font-size=\"12\" lengthAdjust=\"spacingAndGlyphs\" textLength=\"59\" x=\"276\" y=\"89.6543\">Calculator</text><line style=\"stroke: #A80036; stroke-width: 1.5;\" x1=\"248\" x2=\"337\" y1=\"101.5\" y2=\"101.5\"/><rect fill=\"none\" height=\"6\" style=\"stroke: #C82930; stroke-width: 1.0;\" width=\"6\" x=\"255\" y=\"109.5\"/><text fill=\"#000000\" font-family=\"sans-serif\" font-size=\"11\" lengthAdjust=\"spacingAndGlyphs\" textLength=\"31\" x=\"267\" y=\"115.7104\">int _a</text><rect fill=\"none\" height=\"6\" style=\"stroke: #C82930; stroke-width: 1.0;\" width=\"6\" x=\"255\" y=\"122.3047\"/><text fill=\"#000000\" font-family=\"sans-serif\" font-size=\"11\" lengthAdjust=\"spacingAndGlyphs\" textLength=\"31\" x=\"267\" y=\"128.5151\">int _b</text><line style=\"stroke: #A80036; stroke-width: 1.5;\" x1=\"248\" x2=\"337\" y1=\"135.1094\" y2=\"135.1094\"/><ellipse cx=\"258\" cy=\"146.1094\" fill=\"#84BE84\" rx=\"3\" ry=\"3\" style=\"stroke: #038048; stroke-width: 1.0;\"/><text fill=\"#000000\" font-family=\"sans-serif\" font-size=\"11\" lengthAdjust=\"spacingAndGlyphs\" textLength=\"48\" x=\"267\" y=\"149.3198\">int Add()</text><ellipse cx=\"258\" cy=\"158.9141\" fill=\"#84BE84\" rx=\"3\" ry=\"3\" style=\"stroke: #038048; stroke-width: 1.0;\"/><text fill=\"#000000\" font-family=\"sans-serif\" font-size=\"11\" lengthAdjust=\"spacingAndGlyphs\" textLength=\"48\" x=\"267\" y=\"162.1245\">int Sub()</text><ellipse cx=\"258\" cy=\"171.7188\" fill=\"#84BE84\" rx=\"3\" ry=\"3\" style=\"stroke: #038048; stroke-width: 1.0;\"/><text fill=\"#000000\" font-family=\"sans-serif\" font-size=\"11\" lengthAdjust=\"spacingAndGlyphs\" textLength=\"45\" x=\"267\" y=\"174.9292\">int Mul()</text><ellipse cx=\"258\" cy=\"184.5234\" fill=\"#84BE84\" rx=\"3\" ry=\"3\" style=\"stroke: #038048; stroke-width: 1.0;\"/><text fill=\"#000000\" font-family=\"sans-serif\" font-size=\"11\" lengthAdjust=\"spacingAndGlyphs\" textLength=\"45\" x=\"267\" y=\"187.7339\">int Div()</text><!--MD5=[175f95e045c1a44aed0b30df3abe0e5c]\n",
       "class Program--><rect codeLine=\"15\" fill=\"#FEFECE\" filter=\"url(#fljd2hg74opxa)\" height=\"48\" id=\"Program\" style=\"stroke: #A80036; stroke-width: 1.5;\" width=\"82\" x=\"49.5\" y=\"41\"/><ellipse cx=\"64.5\" cy=\"57\" fill=\"#ADD1B2\" rx=\"11\" ry=\"11\" style=\"stroke: #A80036; stroke-width: 1.0;\"/><path d=\"M66.8438,52.6719 C65.9063,52.2344 65.3125,52.0938 64.4375,52.0938 C61.8125,52.0938 59.8125,54.1719 59.8125,56.8906 L59.8125,58.0156 C59.8125,60.5938 61.9219,62.4844 64.8125,62.4844 C66.0313,62.4844 67.1875,62.1875 67.9375,61.6406 C68.5156,61.2344 68.8438,60.7813 68.8438,60.3906 C68.8438,59.9375 68.4531,59.5469 67.9844,59.5469 C67.7656,59.5469 67.5625,59.625 67.375,59.8125 C66.9219,60.2969 66.9219,60.2969 66.7344,60.3906 C66.3125,60.6563 65.625,60.7813 64.8594,60.7813 C62.8125,60.7813 61.5156,59.6875 61.5156,57.9844 L61.5156,56.8906 C61.5156,55.1094 62.7656,53.7969 64.5,53.7969 C65.0781,53.7969 65.6875,53.9531 66.1563,54.2031 C66.6406,54.4844 66.8125,54.7031 66.9063,55.1094 C66.9688,55.5156 67,55.6406 67.1406,55.7656 C67.2813,55.9063 67.5156,56.0156 67.7344,56.0156 C68,56.0156 68.2656,55.875 68.4375,55.6563 C68.5469,55.5 68.5781,55.3125 68.5781,54.8906 L68.5781,53.4688 C68.5781,53.0313 68.5625,52.9063 68.4688,52.75 C68.3125,52.4844 68.0313,52.3438 67.7344,52.3438 C67.4375,52.3438 67.2344,52.4375 67.0156,52.75 L66.8438,52.6719 Z \"/><text fill=\"#000000\" font-family=\"sans-serif\" font-size=\"12\" lengthAdjust=\"spacingAndGlyphs\" textLength=\"50\" x=\"78.5\" y=\"61.1543\">Program</text><line style=\"stroke: #A80036; stroke-width: 1.5;\" x1=\"50.5\" x2=\"130.5\" y1=\"73\" y2=\"73\"/><line style=\"stroke: #A80036; stroke-width: 1.5;\" x1=\"50.5\" x2=\"130.5\" y1=\"81\" y2=\"81\"/><!--MD5=[b37ebb74fd54068f679655912c8dfe04]\n",
       "class CalculatorTest--><rect codeLine=\"19\" fill=\"#FEFECE\" filter=\"url(#fljd2hg74opxa)\" height=\"48\" id=\"CalculatorTest\" style=\"stroke: #A80036; stroke-width: 1.5;\" width=\"117\" x=\"32\" y=\"164\"/><ellipse cx=\"47\" cy=\"180\" fill=\"#ADD1B2\" rx=\"11\" ry=\"11\" style=\"stroke: #A80036; stroke-width: 1.0;\"/><path d=\"M49.3438,175.6719 C48.4063,175.2344 47.8125,175.0938 46.9375,175.0938 C44.3125,175.0938 42.3125,177.1719 42.3125,179.8906 L42.3125,181.0156 C42.3125,183.5938 44.4219,185.4844 47.3125,185.4844 C48.5313,185.4844 49.6875,185.1875 50.4375,184.6406 C51.0156,184.2344 51.3438,183.7813 51.3438,183.3906 C51.3438,182.9375 50.9531,182.5469 50.4844,182.5469 C50.2656,182.5469 50.0625,182.625 49.875,182.8125 C49.4219,183.2969 49.4219,183.2969 49.2344,183.3906 C48.8125,183.6563 48.125,183.7813 47.3594,183.7813 C45.3125,183.7813 44.0156,182.6875 44.0156,180.9844 L44.0156,179.8906 C44.0156,178.1094 45.2656,176.7969 47,176.7969 C47.5781,176.7969 48.1875,176.9531 48.6563,177.2031 C49.1406,177.4844 49.3125,177.7031 49.4063,178.1094 C49.4688,178.5156 49.5,178.6406 49.6406,178.7656 C49.7813,178.9063 50.0156,179.0156 50.2344,179.0156 C50.5,179.0156 50.7656,178.875 50.9375,178.6563 C51.0469,178.5 51.0781,178.3125 51.0781,177.8906 L51.0781,176.4688 C51.0781,176.0313 51.0625,175.9063 50.9688,175.75 C50.8125,175.4844 50.5313,175.3438 50.2344,175.3438 C49.9375,175.3438 49.7344,175.4375 49.5156,175.75 L49.3438,175.6719 Z \"/><text fill=\"#000000\" font-family=\"sans-serif\" font-size=\"12\" lengthAdjust=\"spacingAndGlyphs\" textLength=\"85\" x=\"61\" y=\"184.1543\">CalculatorTest</text><line style=\"stroke: #A80036; stroke-width: 1.5;\" x1=\"33\" x2=\"148\" y1=\"196\" y2=\"196\"/><line style=\"stroke: #A80036; stroke-width: 1.5;\" x1=\"33\" x2=\"148\" y1=\"204\" y2=\"204\"/><!--MD5=[729dc36ae8586fd14aafc5372a4062fc]\n",
       "link Program to Calculator--><path codeLine=\"22\" d=\"M131.973,78.558 C163.74,89.2 208.108,104.064 241.991,115.415 \" fill=\"none\" id=\"Program-to-Calculator\" style=\"stroke: #A80036; stroke-width: 1.0; stroke-dasharray: 7.0,7.0;\"/><polygon fill=\"#A80036\" points=\"246.912,117.063,239.649,110.4111,242.171,115.4746,237.1075,117.9966,246.912,117.063\" style=\"stroke: #A80036; stroke-width: 1.0;\"/><text fill=\"#000000\" font-family=\"sans-serif\" font-size=\"13\" lengthAdjust=\"spacingAndGlyphs\" textLength=\"30\" x=\"183\" y=\"93.0669\">uses</text><!--MD5=[46b76658c013f2f79355caf2857eecec]\n",
       "link CalculatorTest to Calculator--><path codeLine=\"23\" d=\"M149.08,171.8776 C178.303,163.6951 213.459,153.8514 241.531,145.9914 \" fill=\"none\" id=\"CalculatorTest-to-Calculator\" style=\"stroke: #A80036; stroke-width: 1.0; stroke-dasharray: 7.0,7.0;\"/><polygon fill=\"#A80036\" points=\"246.687,144.5477,236.9417,143.1234,241.8723,145.8963,239.0994,150.8269,246.687,144.5477\" style=\"stroke: #A80036; stroke-width: 1.0;\"/><text fill=\"#000000\" font-family=\"sans-serif\" font-size=\"13\" lengthAdjust=\"spacingAndGlyphs\" textLength=\"32\" x=\"182\" y=\"150.0669\">tests</text><!--MD5=[5236df5c3e9833e2d5377fee292829d9]\n",
       "@startuml\n",
       "left to right direction\n",
       "\n",
       "package Utils {\n",
       "    class Calculator {\n",
       "        - int _a\n",
       "        - int _b\n",
       "        + int Add()\n",
       "        + int Sub()\n",
       "        + int Mul()\n",
       "        + int Div()\n",
       "    }\n",
       "}\n",
       "\n",
       "package App {\n",
       "    class Program\n",
       "}\n",
       "\n",
       "package Test {\n",
       "    class CalculatorTest\n",
       "}\n",
       "\n",
       "Program ..> Calculator : uses\n",
       "CalculatorTest ..> Calculator : tests\n",
       "@enduml\n",
       "\n",
       "PlantUML version 1.2020.18(Wed Sep 30 19:40:44 UTC 2020)\n",
       "(GPL source distribution)\n",
       "Java Runtime: Java(TM) SE Runtime Environment\n",
       "JVM: Java HotSpot(TM) 64-Bit Server VM\n",
       "Default Encoding: UTF-8\n",
       "Language: en\n",
       "Country: US\n",
       "--></g></svg>"
      ],
      "text/plain": [
       "<IPython.core.display.SVG object>"
      ]
     },
     "execution_count": 2,
     "metadata": {},
     "output_type": "execute_result"
    }
   ],
   "source": [
    "%%plantuml\n",
    "\n",
    "@startuml\n",
    "\n",
    "left to right direction\n",
    "\n",
    "package Utils {\n",
    "    class Calculator {\n",
    "        - int _a\n",
    "        - int _b\n",
    "        + int Add()\n",
    "        + int Sub()\n",
    "        + int Mul()\n",
    "        + int Div()\n",
    "    }\n",
    "}\n",
    "\n",
    "package App {\n",
    "    class Program\n",
    "}\n",
    "\n",
    "package Test {\n",
    "    class CalculatorTest\n",
    "}\n",
    "\n",
    "Program ..> Calculator : uses\n",
    "CalculatorTest ..> Calculator : tests\n",
    "    \n",
    "@enduml"
   ]
  },
  {
   "cell_type": "code",
   "execution_count": 3,
   "metadata": {},
   "outputs": [
    {
     "name": "stdout",
     "output_type": "stream",
     "text": [
      "OpenJDK 64-Bit Server VM warning: Option UseConcMarkSweepGC was deprecated in version 9.0 and will likely be removed in a future release.\n",
      "Oct 02, 2020 9:05:33 PM java.util.prefs.FileSystemPreferences$1 run\n",
      "INFO: Created user preferences directory.\n",
      "Oct 02, 2020 9:05:33 PM java.util.prefs.FileSystemPreferences$6 run\n",
      "WARNING: Prefs file removed in background /home/student/.java/.userPrefs/prefs.xml\n",
      "Installation home directory: file:////opt/JetBrains Rider-2020.2.3\n",
      "System directory: file:////home/student/.cache/JetBrains/Rider2020.2\n",
      "Config directory: file:////home/student/.config/JetBrains/Rider2020.2\n",
      "Log directory: file:////home/student/.cache/JetBrains/Rider2020.2/log\n",
      "\n",
      "Following output will be written to a log file /home/student/.cache/JetBrains/Rider2020.2/log/frontend.log\n"
     ]
    }
   ],
   "source": [
    "! rider project/project.sln"
   ]
  },
  {
   "cell_type": "code",
   "execution_count": null,
   "metadata": {},
   "outputs": [],
   "source": []
  },
  {
   "cell_type": "code",
   "execution_count": null,
   "metadata": {},
   "outputs": [],
   "source": []
  }
 ],
 "metadata": {
  "kernelspec": {
   "display_name": "Python 3",
   "language": "python",
   "name": "python3"
  },
  "language_info": {
   "codemirror_mode": {
    "name": "ipython",
    "version": 3
   },
   "file_extension": ".py",
   "mimetype": "text/x-python",
   "name": "python",
   "nbconvert_exporter": "python",
   "pygments_lexer": "ipython3",
   "version": "3.8.3"
  }
 },
 "nbformat": 4,
 "nbformat_minor": 4
}
