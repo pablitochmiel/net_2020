{
 "cells": [
  {
   "cell_type": "markdown",
   "metadata": {},
   "source": [
    "# NET 2020"
   ]
  },
  {
   "cell_type": "markdown",
   "metadata": {},
   "source": [
    "## 1. Platform"
   ]
  },
  {
   "cell_type": "markdown",
   "metadata": {},
   "source": [
    "### 1.5. Calculator"
   ]
  },
  {
   "cell_type": "markdown",
   "metadata": {},
   "source": [
    "This exercise aims to create and test a simple calculator application.\n",
    "\n",
    "The solution should be divided into three projects:\n",
    "\n",
    "1. ```Utils``` (netstandard2.1) - library containing a ```Calculator``` class which can be used in following way:\n",
    "```c#\n",
    "var calculator = new Calculator(20, 30);\n",
    "var sum = calculator.Add();\n",
    "```\n",
    "2. ```App``` (netcoreapp3.1) - command line interface supporing following cmmands:\n",
    "- Addition: ```dotnet run 1 add 2``` (output ```1 add 2 = 3```)\n",
    "- Subtraction: ```dotnet run 3 sub 2``` (output ```3 sub 2 = 1```)\n",
    "- Multiplication: ```dotnet run 2 mul 2``` (output ```2 mul 2 = 4```)\n",
    "- Divisioin: ```dotnet run 4 div 2``` (output ```4 div 2 = 2```)\n",
    "3. ```Test``` (netcoreapp3.1) - xUnit project with tests for the library\n",
    "\n",
    "Expected project structure:\n",
    "\n",
    "```\n",
    "project/\n",
    "├── App\n",
    "│   ├── App.csproj\n",
    "│   └── Program.cs\n",
    "├── project.sln\n",
    "├── Test\n",
    "│   ├── CalculatorTest.cs\n",
    "│   └── Test.csproj\n",
    "└── Utils\n",
    "    ├── Calculator.cs\n",
    "    └── Utils.csproj\n",
    "\n",
    "3 directories, 7 files\n",
    "```\n",
    "\n",
    "Each project in solution should:\n",
    "\n",
    "1. Use ```Microsoft.CodeAnalysis.FxCopAnalyzers``` package\n",
    "2. Treat warnings as errors: ```<TreatWarningsAsErrors>true</TreatWarningsAsErrors>```\n",
    "3. The string localisation warnings can be disabled: ```<NoWarn>CA1303</NoWarn>```\n",
    "4. Latest version of the language should be used: ```<LangVersion>preview</LangVersion>```\n",
    "5. Nullable references should be enabled: ```<Nullable>enable</Nullable>```\n",
    "\n",
    "The project should have 100% coverage, and there should be no warnings or hints visible in the Rider IDE.\n",
    "\n",
    "The ```Main``` function can be excluded from coverage using the ```ExcludeFromCodeCoverage``` anotation."
   ]
  },
  {
   "cell_type": "code",
   "execution_count": null,
   "metadata": {},
   "outputs": [],
   "source": [
    "import iplantuml"
   ]
  },
  {
   "cell_type": "markdown",
   "metadata": {},
   "source": [
    "Class diagram:"
   ]
  },
  {
   "cell_type": "code",
   "execution_count": null,
   "metadata": {
    "scrolled": true
   },
   "outputs": [],
   "source": [
    "%%plantuml\n",
    "\n",
    "@startuml\n",
    "\n",
    "left to right direction\n",
    "\n",
    "package Utils {\n",
    "    class Calculator {\n",
    "        - int _a\n",
    "        - int _b\n",
    "        + int Add()\n",
    "        + int Sub()\n",
    "        + int Mul()\n",
    "        + int Div()\n",
    "    }\n",
    "}\n",
    "\n",
    "package App {\n",
    "    class Program\n",
    "}\n",
    "\n",
    "package Test {\n",
    "    class CalculatorTest\n",
    "}\n",
    "\n",
    "Program ..> Calculator : uses\n",
    "CalculatorTest ..> Calculator : tests\n",
    "    \n",
    "@enduml"
   ]
  },
  {
   "cell_type": "code",
   "execution_count": null,
   "metadata": {},
   "outputs": [],
   "source": [
    "! rider project/project.sln"
   ]
  }
 ],
 "metadata": {
  "kernelspec": {
   "display_name": "Python 3",
   "language": "python",
   "name": "python3"
  },
  "language_info": {
   "codemirror_mode": {
    "name": "ipython",
    "version": 3
   },
   "file_extension": ".py",
   "mimetype": "text/x-python",
   "name": "python",
   "nbconvert_exporter": "python",
   "pygments_lexer": "ipython3",
   "version": "3.8.3"
  }
 },
 "nbformat": 4,
 "nbformat_minor": 4
}
