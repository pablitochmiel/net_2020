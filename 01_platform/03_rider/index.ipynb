{
 "cells": [
  {
   "cell_type": "markdown",
   "metadata": {},
   "source": [
    "# NET 2020"
   ]
  },
  {
   "cell_type": "markdown",
   "metadata": {},
   "source": [
    "## 1. Platform"
   ]
  },
  {
   "cell_type": "markdown",
   "metadata": {},
   "source": [
    "### 1.3. Rider"
   ]
  },
  {
   "cell_type": "markdown",
   "metadata": {},
   "source": [
    "#### Inital Steps"
   ]
  },
  {
   "cell_type": "markdown",
   "metadata": {},
   "source": [
    "Let us create an empty project and open it with Rider IDE:"
   ]
  },
  {
   "cell_type": "code",
   "execution_count": null,
   "metadata": {},
   "outputs": [],
   "source": [
    "! mkdir project && cd project && dotnet new sln"
   ]
  },
  {
   "cell_type": "code",
   "execution_count": null,
   "metadata": {},
   "outputs": [],
   "source": [
    "! rider project"
   ]
  },
  {
   "cell_type": "markdown",
   "metadata": {},
   "source": [
    "<img src=\"01_initial/01_user_agreement.jpg\"/>\n",
    "<img src=\"01_initial/02_data_sharing.jpg\"/>\n",
    "<img src=\"01_initial/03_light_theme.jpg\"/>\n",
    "<img src=\"01_initial/04_editor_colors.jpg\"/>\n",
    "<img src=\"01_initial/05_select_intelij)keymap_for_now.jpg\"/>\n",
    "<img src=\"01_initial/06_environments.jpg\"/>\n",
    "<img src=\"01_initial/07_tuning_rider.jpg\"/>\n",
    "<img src=\"01_initial/08_featured_plugins.jpg\"/>\n",
    "<img src=\"01_initial/09_evaluate.jpg\"/>\n",
    "<img src=\"01_initial/10_dot_cover.jpg\"/>\n",
    "<img src=\"01_initial/11_dot_cover_evaluate.jpg\"/>\n",
    "<img src=\"01_initial/12_dot_trace.jpg\"/>\n",
    "<img src=\"01_initial/13_dot_trace_evaluate.jpg\"/>\n",
    "<img src=\"01_initial/14_continue.jpg\"/>\n",
    "<img src=\"01_initial/15_open_solution.jpg\"/>\n",
    "<img src=\"01_initial/16_ready_ide.jpg\"/>\n",
    "<img src=\"01_initial/17_exit.jpg\"/>"
   ]
  },
  {
   "cell_type": "markdown",
   "metadata": {},
   "source": [
    "#### Adding library, executable and tests"
   ]
  },
  {
   "cell_type": "code",
   "execution_count": null,
   "metadata": {},
   "outputs": [],
   "source": [
    "! rider project"
   ]
  },
  {
   "cell_type": "markdown",
   "metadata": {},
   "source": [
    "<img src=\"02_projects/01_open_solution.jpg\"/>\n",
    "<img src=\"02_projects/02_adding_new_project.jpg\"/>\n",
    "<img src=\"02_projects/03_adding_console_app.jpg\"/>\n",
    "<img src=\"02_projects/04_running_the_app.jpg\"/>\n",
    "<img src=\"02_projects/05_console_output.jpg\"/>\n",
    "<img src=\"02_projects/06_new_project.jpg\"/>\n",
    "<img src=\"02_projects/07_adding_library.jpg\"/>\n",
    "<img src=\"02_projects/08_adding_function.jpg\"/>\n",
    "<img src=\"02_projects/09_adding_reference_to_app.jpg\"/>\n",
    "<img src=\"02_projects/10_selecting_reference.jpg\"/>\n",
    "<img src=\"02_projects/11_using_class_from_library.jpg\"/>\n",
    "<img src=\"02_projects/12_it_still_works.jpg\"/>\n",
    "<img src=\"02_projects/13_new_project.jpg\"/>\n",
    "<img src=\"02_projects/14_configuring_test_project.jpg\"/>\n",
    "<img src=\"02_projects/15_adding_reference_to_tests.jpg\"/>\n",
    "<img src=\"02_projects/16_selecting_the_library.jpg\"/>\n",
    "<img src=\"02_projects/17_adding_some_tests.jpg\"/>\n",
    "<img src=\"02_projects/18_running_the_tests.jpg\"/>\n",
    "<img src=\"02_projects/19_passed_tests.jpg\"/>\n",
    "<img src=\"02_projects/20_exit.jpg\"/>"
   ]
  },
  {
   "cell_type": "markdown",
   "metadata": {},
   "source": [
    "#### Debugging"
   ]
  },
  {
   "cell_type": "code",
   "execution_count": null,
   "metadata": {},
   "outputs": [],
   "source": [
    "! rider project/project.sln"
   ]
  },
  {
   "cell_type": "markdown",
   "metadata": {},
   "source": [
    "<img src=\"03_debugging/01_breakpoint.jpg\"/>\n",
    "<img src=\"03_debugging/02_debug_tests.jpg\"/>\n",
    "<img src=\"03_debugging/03_breakpoint_reached.jpg\"/>\n",
    "<img src=\"03_debugging/04_step_and_resume.jpg\"/>\n",
    "<img src=\"03_debugging/05_done_and_close.jpg\"/>\n",
    "<img src=\"03_debugging/06_exit.jpg\"/>"
   ]
  },
  {
   "cell_type": "markdown",
   "metadata": {},
   "source": [
    "#### Coverage"
   ]
  },
  {
   "cell_type": "code",
   "execution_count": null,
   "metadata": {},
   "outputs": [],
   "source": [
    "! rider project/project.sln"
   ]
  },
  {
   "cell_type": "markdown",
   "metadata": {},
   "source": [
    "<img src=\"04_coverage/01_cover_all_tests.jpg\"/>\n",
    "<img src=\"04_coverage/02_coverage_results.jpg\"/>\n",
    "<img src=\"04_coverage/03_uncovered_hello_and_hide.jpg\"/>\n",
    "<img src=\"04_coverage/04_close.jpg\"/>\n",
    "<img src=\"04_coverage/05_exit.jpg\"/>"
   ]
  },
  {
   "cell_type": "markdown",
   "metadata": {},
   "source": [
    "#### Profiling"
   ]
  },
  {
   "cell_type": "code",
   "execution_count": null,
   "metadata": {},
   "outputs": [],
   "source": [
    "! rider project/project.sln"
   ]
  },
  {
   "cell_type": "markdown",
   "metadata": {},
   "source": [
    "<img src=\"05_profiling/01_profile_all_tests.jpg\"/>\n",
    "<img src=\"05_profiling/02_seelcting_report.jpg\"/>\n",
    "<img src=\"05_profiling/03_profile_from_unit_test_framework.jpg\"/>\n",
    "<img src=\"05_profiling/04_close.jpg\"/>\n",
    "<img src=\"05_profiling/05_exit.jpg\"/>"
   ]
  },
  {
   "cell_type": "markdown",
   "metadata": {},
   "source": [
    "#### Miscellaneous"
   ]
  },
  {
   "cell_type": "code",
   "execution_count": null,
   "metadata": {},
   "outputs": [],
   "source": [
    "! rider project/project.sln"
   ]
  },
  {
   "cell_type": "markdown",
   "metadata": {},
   "source": [
    "<img src=\"06_misc/01_zoom_from_ctrl_plus_scroll_is_enabled_by_default.jpg\"/>\n",
    "<img src=\"06_misc/02_setting.jpg\"/>\n",
    "<img src=\"06_misc/03_install_eclipse_keymap_plugin.jpg\"/>\n",
    "<img src=\"06_misc/04_select_the_keymap.jpg\"/>\n",
    "<img src=\"06_misc/05_save_changes.jpg\"/>\n",
    "<img src=\"06_misc/06_select_symbol_and_press_f3.jpg\"/>\n",
    "<img src=\"06_misc/07_symbol_opened.jpg\"/>\n",
    "<img src=\"06_misc/08_exit.jpg\"/>"
   ]
  },
  {
   "cell_type": "markdown",
   "metadata": {},
   "source": [
    "#### Analysers"
   ]
  },
  {
   "cell_type": "code",
   "execution_count": null,
   "metadata": {},
   "outputs": [],
   "source": [
    "! rider project/project.sln"
   ]
  },
  {
   "cell_type": "markdown",
   "metadata": {},
   "source": [
    "<img src=\"07_analysers/01_go_to_nuget_page.jpg\"/>\n",
    "<img src=\"07_analysers/02_find_fx_cop_anayzers.jpg\"/>\n",
    "<img src=\"07_analysers/03_install.jpg\"/>\n",
    "<img src=\"07_analysers/04_next_add.jpg\"/>\n",
    "<img src=\"07_analysers/05_insatll.jpg\"/>\n",
    "<img src=\"07_analysers/06_last_project.jpg\"/>\n",
    "<img src=\"07_analysers/07_insatll.jpg\"/>\n",
    "<img src=\"07_analysers/08_go_to_filesystem_view.jpg\"/>\n",
    "<img src=\"07_analysers/09_check_whether_it_was_correctly added.jpg\"/>\n",
    "<img src=\"07_analysers/10_new_warnings_visible.jpg\"/>\n",
    "<img src=\"07_analysers/11_exit.jpg\"/>"
   ]
  },
  {
   "cell_type": "markdown",
   "metadata": {},
   "source": [
    "#### Warnings as errors"
   ]
  },
  {
   "cell_type": "code",
   "execution_count": null,
   "metadata": {},
   "outputs": [],
   "source": [
    "! rider project/project.sln"
   ]
  },
  {
   "cell_type": "markdown",
   "metadata": {},
   "source": [
    "<img src=\"08_warnings_as_errors/01_in_utils.jpg\"/>\n",
    "<img src=\"08_warnings_as_errors/02_in_app.jpg\"/>\n",
    "<img src=\"08_warnings_as_errors/03_in_test.jpg\"/>\n",
    "<img src=\"08_warnings_as_errors/04_compilation_errors.jpg\"/>\n",
    "<img src=\"08_warnings_as_errors/05_in_utils.jpg\"/>\n",
    "<img src=\"08_warnings_as_errors/06_in_app.jpg\"/>\n",
    "<img src=\"08_warnings_as_errors/07_in_test.jpg\"/>\n",
    "<img src=\"08_warnings_as_errors/08_real_error.jpg\"/>\n",
    "<img src=\"08_warnings_as_errors/09_new_error.jpg\"/>\n",
    "<img src=\"08_warnings_as_errors/10_more_errors.jpg\"/>\n",
    "<img src=\"08_warnings_as_errors/11_even_more_errors.jpg\"/>\n",
    "<img src=\"08_warnings_as_errors/12_erros_in_tests.jpg\"/>\n",
    "<img src=\"08_warnings_as_errors/13_clean_rebuild_without_errors.jpg\"/>\n",
    "<img src=\"08_warnings_as_errors/14_exit.jpg\"/>"
   ]
  },
  {
   "cell_type": "markdown",
   "metadata": {},
   "source": [
    "#### Latest language version and nullable references"
   ]
  },
  {
   "cell_type": "code",
   "execution_count": null,
   "metadata": {},
   "outputs": [],
   "source": [
    "! rider project/project.sln"
   ]
  },
  {
   "cell_type": "markdown",
   "metadata": {},
   "source": [
    "<img src=\"09_language/01_in_utils.jpg\"/>\n",
    "<img src=\"09_language/02_in_app.jpg\"/>\n",
    "<img src=\"09_language/03_in_test.jpg\"/>\n",
    "<img src=\"09_language/04_rebuild.jpg\"/>\n",
    "<img src=\"09_language/05_success.jpg\"/>\n",
    "<img src=\"09_language/06_exit.jpg\"/>"
   ]
  },
  {
   "cell_type": "markdown",
   "metadata": {},
   "source": [
    "#### Code analysis"
   ]
  },
  {
   "cell_type": "code",
   "execution_count": null,
   "metadata": {},
   "outputs": [],
   "source": [
    "! rider project/project.sln"
   ]
  },
  {
   "cell_type": "markdown",
   "metadata": {},
   "source": [
    "<img src=\"10_analysis/01_run_alanysis.jpg\"/>\n",
    "<img src=\"10_analysis/02_on_whole_project.jpg\"/>\n",
    "<img src=\"10_analysis/03_first_error.jpg\"/>\n",
    "<img src=\"10_analysis/04_fix_it.jpg\"/>\n",
    "<img src=\"10_analysis/05_next_fix.jpg\"/>\n",
    "<img src=\"10_analysis/06_next_fix.jpg\"/>\n",
    "<img src=\"10_analysis/07_another_fix.jpg\"/>\n",
    "<img src=\"10_analysis/08_fix.jpg\"/>\n",
    "<img src=\"10_analysis/09_inspect.jpg\"/>\n",
    "<img src=\"10_analysis/10_whole.jpg\"/>\n",
    "<img src=\"10_analysis/11_no_issues.jpg\"/>\n",
    "<img src=\"10_analysis/12_exit.jpg\"/>"
   ]
  },
  {
   "cell_type": "markdown",
   "metadata": {},
   "source": [
    "#### Cleanup"
   ]
  },
  {
   "cell_type": "code",
   "execution_count": null,
   "metadata": {},
   "outputs": [],
   "source": [
    "! rm -rf project"
   ]
  }
 ],
 "metadata": {
  "kernelspec": {
   "display_name": "Python 3",
   "language": "python",
   "name": "python3"
  },
  "language_info": {
   "codemirror_mode": {
    "name": "ipython",
    "version": 3
   },
   "file_extension": ".py",
   "mimetype": "text/x-python",
   "name": "python",
   "nbconvert_exporter": "python",
   "pygments_lexer": "ipython3",
   "version": "3.8.3"
  }
 },
 "nbformat": 4,
 "nbformat_minor": 4
}
