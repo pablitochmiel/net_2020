{
 "cells": [
  {
   "cell_type": "markdown",
   "metadata": {},
   "source": [
    "# NET 2020"
   ]
  },
  {
   "cell_type": "markdown",
   "metadata": {},
   "source": [
    "## 1. Platform"
   ]
  },
  {
   "cell_type": "markdown",
   "metadata": {},
   "source": [
    "### 1.1. Dotnet CLI"
   ]
  },
  {
   "cell_type": "markdown",
   "metadata": {},
   "source": [
    "How to create a console application?"
   ]
  },
  {
   "cell_type": "code",
   "execution_count": null,
   "metadata": {},
   "outputs": [],
   "source": [
    "! dotnet new console -o App"
   ]
  },
  {
   "cell_type": "markdown",
   "metadata": {},
   "source": [
    "The application can now be compiled:"
   ]
  },
  {
   "cell_type": "code",
   "execution_count": null,
   "metadata": {},
   "outputs": [],
   "source": [
    "! cd App && dotnet build"
   ]
  },
  {
   "cell_type": "markdown",
   "metadata": {},
   "source": [
    "And executed:"
   ]
  },
  {
   "cell_type": "code",
   "execution_count": null,
   "metadata": {},
   "outputs": [],
   "source": [
    "! cd App && dotnet run"
   ]
  },
  {
   "cell_type": "markdown",
   "metadata": {},
   "source": [
    "How to add library?"
   ]
  },
  {
   "cell_type": "code",
   "execution_count": null,
   "metadata": {},
   "outputs": [],
   "source": [
    "! dotnet new classlib -o Utils"
   ]
  },
  {
   "cell_type": "code",
   "execution_count": null,
   "metadata": {},
   "outputs": [],
   "source": [
    "! cd Utils && dotnet build"
   ]
  },
  {
   "cell_type": "markdown",
   "metadata": {},
   "source": [
    "How to add unit tests?"
   ]
  },
  {
   "cell_type": "code",
   "execution_count": null,
   "metadata": {},
   "outputs": [],
   "source": [
    "! dotnet new xunit -o Test"
   ]
  },
  {
   "cell_type": "code",
   "execution_count": null,
   "metadata": {},
   "outputs": [],
   "source": [
    "! cd Test && dotnet build"
   ]
  },
  {
   "cell_type": "code",
   "execution_count": null,
   "metadata": {},
   "outputs": [],
   "source": [
    "! cd Test && dotnet test"
   ]
  },
  {
   "cell_type": "markdown",
   "metadata": {},
   "source": [
    "All projects were created as independant entities.\n",
    "\n",
    "Now we need to bind them in order to use **Utils** in **App** and **Test**:"
   ]
  },
  {
   "cell_type": "code",
   "execution_count": null,
   "metadata": {},
   "outputs": [],
   "source": [
    "! cd App && dotnet add reference ../Utils"
   ]
  },
  {
   "cell_type": "code",
   "execution_count": null,
   "metadata": {},
   "outputs": [],
   "source": [
    "! cd App && dotnet run"
   ]
  },
  {
   "cell_type": "code",
   "execution_count": null,
   "metadata": {},
   "outputs": [],
   "source": [
    "! cd Test && dotnet add reference ../Utils"
   ]
  },
  {
   "cell_type": "code",
   "execution_count": null,
   "metadata": {},
   "outputs": [],
   "source": [
    "! cd Test && dotnet test"
   ]
  },
  {
   "cell_type": "markdown",
   "metadata": {},
   "source": [
    "How to create empty solution?"
   ]
  },
  {
   "cell_type": "code",
   "execution_count": null,
   "metadata": {},
   "outputs": [],
   "source": [
    "! dotnet new sln"
   ]
  },
  {
   "cell_type": "markdown",
   "metadata": {},
   "source": [
    "How to add projects to solution?"
   ]
  },
  {
   "cell_type": "code",
   "execution_count": null,
   "metadata": {},
   "outputs": [],
   "source": [
    "! dotnet sln add Utils"
   ]
  },
  {
   "cell_type": "code",
   "execution_count": null,
   "metadata": {},
   "outputs": [],
   "source": [
    "! dotnet sln add App"
   ]
  },
  {
   "cell_type": "code",
   "execution_count": null,
   "metadata": {},
   "outputs": [],
   "source": [
    "! dotnet sln add Test"
   ]
  },
  {
   "cell_type": "markdown",
   "metadata": {},
   "source": [
    "Now commands can be executed from solution directory:"
   ]
  },
  {
   "cell_type": "code",
   "execution_count": null,
   "metadata": {},
   "outputs": [],
   "source": [
    "! dotnet build"
   ]
  },
  {
   "cell_type": "code",
   "execution_count": null,
   "metadata": {},
   "outputs": [],
   "source": [
    "! dotnet test"
   ]
  },
  {
   "cell_type": "code",
   "execution_count": null,
   "metadata": {},
   "outputs": [],
   "source": [
    "! dotnet run --project App"
   ]
  },
  {
   "cell_type": "markdown",
   "metadata": {},
   "source": [
    "For many useful inspection we can install additional FxCop package:"
   ]
  },
  {
   "cell_type": "code",
   "execution_count": null,
   "metadata": {},
   "outputs": [],
   "source": [
    "! cd Utils && dotnet add package Microsoft.CodeAnalysis.FxCopAnalyzers --version 3.3.0"
   ]
  },
  {
   "cell_type": "code",
   "execution_count": null,
   "metadata": {},
   "outputs": [],
   "source": [
    "! cd App && dotnet add package Microsoft.CodeAnalysis.FxCopAnalyzers --version 3.3.0"
   ]
  },
  {
   "cell_type": "code",
   "execution_count": null,
   "metadata": {},
   "outputs": [],
   "source": [
    "! cd Test && dotnet add package Microsoft.CodeAnalysis.FxCopAnalyzers --version 3.3.0"
   ]
  },
  {
   "cell_type": "code",
   "execution_count": null,
   "metadata": {},
   "outputs": [],
   "source": [
    "! dotnet build"
   ]
  },
  {
   "cell_type": "markdown",
   "metadata": {},
   "source": [
    "And for the rules to be enforced let's treat all warnings as errors:\n",
    "\n",
    "```xml\n",
    "<Project>\n",
    "  <PropertyGroup>\n",
    "    <TreatWarningsAsErrors>true</TreatWarningsAsErrors>\n",
    "  </PropertyGroup>\n",
    "</Project>\n",
    "```\n",
    "\n",
    "Edite the [Utils/Utils.csproj](../../../edit/01_platform/01_dotnet/Utils/Utils.csproj), [App/App.csproj](../../../edit/01_platform/01_dotnet/App/App.csproj) and [Test/Test.csproj](../../../edit/01_platform/01_dotnet/Test/Test.csproj)."
   ]
  },
  {
   "cell_type": "code",
   "execution_count": null,
   "metadata": {},
   "outputs": [],
   "source": [
    "! dotnet build"
   ]
  },
  {
   "cell_type": "markdown",
   "metadata": {},
   "source": [
    "And, for now, disable the localisation errors:\n",
    "\n",
    "```xml\n",
    "<Project>\n",
    "  <PropertyGroup>\n",
    "    <NoWarn>CA1303</NoWarn>\n",
    "  </PropertyGroup>\n",
    "</Project>\n",
    "```\n",
    "\n",
    "Edite the [Utils/Utils.csproj](../../../edit/01_platform/01_dotnet/Utils/Utils.csproj), [App/App.csproj](../../../edit/01_platform/01_dotnet/App/App.csproj) and [Test/Test.csproj](../../../edit/01_platform/01_dotnet/Test/Test.csproj)."
   ]
  },
  {
   "cell_type": "code",
   "execution_count": null,
   "metadata": {},
   "outputs": [],
   "source": [
    "! dotnet build"
   ]
  },
  {
   "cell_type": "markdown",
   "metadata": {},
   "source": [
    "There is still and error in [App/Program.cs](../../../edit/01_platform/01_dotnet/App/Program.cs) - fix it!"
   ]
  },
  {
   "cell_type": "code",
   "execution_count": null,
   "metadata": {},
   "outputs": [],
   "source": [
    "! dotnet build"
   ]
  },
  {
   "cell_type": "markdown",
   "metadata": {},
   "source": [
    "It is also a good idea to use latest and greatest features from C# and enable nullable references:\n",
    "\n",
    "```xml\n",
    "<Project>\n",
    "  <PropertyGroup>\n",
    "    <LangVersion>preview</LangVersion>\n",
    "    <Nullable>enable</Nullable>\n",
    "  </PropertyGroup>\n",
    "</Project>\n",
    "```\n",
    "\n",
    "Edite the [Utils/Utils.csproj](../../../edit/01_platform/01_dotnet/Utils/Utils.csproj), [App/App.csproj](../../../edit/01_platform/01_dotnet/App/App.csproj) and [Test/Test.csproj](../../../edit/01_platform/01_dotnet/Test/Test.csproj)."
   ]
  },
  {
   "cell_type": "markdown",
   "metadata": {},
   "source": [
    "\n",
    "For libraries version of TargetFramework framework can be updated to 2.1 (latest preview):\n",
    "```xml\n",
    "  <PropertyGroup>\n",
    "    <TargetFramework>netstandard2.1</TargetFramework>\n",
    "  </PropertyGroup>\n",
    "```\n",
    "\n",
    "Edite the [Utils/Utils.csproj](../../../edit/01_platform/01_dotnet/Utils/Utils.csproj)."
   ]
  },
  {
   "cell_type": "markdown",
   "metadata": {},
   "source": [
    "Check evertyhing:"
   ]
  },
  {
   "cell_type": "code",
   "execution_count": null,
   "metadata": {},
   "outputs": [],
   "source": [
    "! dotnet build"
   ]
  },
  {
   "cell_type": "code",
   "execution_count": null,
   "metadata": {},
   "outputs": [],
   "source": [
    "! dotnet test"
   ]
  },
  {
   "cell_type": "code",
   "execution_count": null,
   "metadata": {},
   "outputs": [],
   "source": [
    "! dotnet run --project App"
   ]
  },
  {
   "cell_type": "markdown",
   "metadata": {},
   "source": [
    "Cleanup:"
   ]
  },
  {
   "cell_type": "code",
   "execution_count": null,
   "metadata": {},
   "outputs": [],
   "source": [
    "rm -rf App Utils Test *.sln"
   ]
  }
 ],
 "metadata": {
  "kernelspec": {
   "display_name": "Python 3",
   "language": "python",
   "name": "python3"
  },
  "language_info": {
   "codemirror_mode": {
    "name": "ipython",
    "version": 3
   },
   "file_extension": ".py",
   "mimetype": "text/x-python",
   "name": "python",
   "nbconvert_exporter": "python",
   "pygments_lexer": "ipython3",
   "version": "3.8.3"
  }
 },
 "nbformat": 4,
 "nbformat_minor": 4
}
