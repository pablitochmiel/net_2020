{
 "cells": [
  {
   "cell_type": "markdown",
   "metadata": {},
   "source": [
    "# NET 2020"
   ]
  },
  {
   "cell_type": "markdown",
   "metadata": {},
   "source": [
    "## 2. Obect Oriented"
   ]
  },
  {
   "cell_type": "markdown",
   "metadata": {},
   "source": [
    "### 2.2. Modeling"
   ]
  },
  {
   "cell_type": "markdown",
   "metadata": {},
   "source": [
    "The task is to implement classes that were removed from the ```project/Modeling``` library.\n",
    "\n",
    "The missing code has to be added based on the unit tests, which provided 100% code coverage in the original solution.\n",
    "\n",
    "Expected final project structure:\n",
    "\n",
    "```\n",
    "project/\n",
    "├── Modeling\n",
    "│   ├── FileSeismogram.cs\n",
    "│   ├── FileSource.cs\n",
    "│   ├── InvalidFileException.cs\n",
    "│   ├── ISeismogram.cs\n",
    "│   ├── ISource.cs\n",
    "│   ├── Modeling.csproj\n",
    "│   ├── Simulation.cs\n",
    "│   └── SinSource.cs\n",
    "├── project.sln\n",
    "├── project.sln.DotSettings\n",
    "├── Runner\n",
    "│   ├── Program.cs\n",
    "│   └── Runner.csproj\n",
    "└── Test\n",
    "    ├── FileSeismogramTest.cs\n",
    "    ├── FileSourceTest.cs\n",
    "    ├── InvalidFileExceptionTest.cs\n",
    "    ├── SimulationTest.cs\n",
    "    ├── SinSourceTest.cs\n",
    "    └── Test.csproj\n",
    "\n",
    "3 directories, 18 files\n",
    "```\n",
    "\n",
    "This project provides a simple skeleton that can be used for implementing more complex wavefield modelling code. There are classes for introducing seismic signal source, witing seismograms to the hard drive and for performing the simulation (in forward-time and reverse-time variants). Exciting stuff, but you do not have to understand it to solve this exercise :)\n",
    "\n",
    "To start editing the code execute next cell:"
   ]
  },
  {
   "cell_type": "code",
   "execution_count": null,
   "metadata": {},
   "outputs": [],
   "source": [
    "! rider project/project.sln"
   ]
  }
 ],
 "metadata": {
  "kernelspec": {
   "display_name": "Python 3",
   "language": "python",
   "name": "python3"
  },
  "language_info": {
   "codemirror_mode": {
    "name": "ipython",
    "version": 3
   },
   "file_extension": ".py",
   "mimetype": "text/x-python",
   "name": "python",
   "nbconvert_exporter": "python",
   "pygments_lexer": "ipython3",
   "version": "3.8.3"
  }
 },
 "nbformat": 4,
 "nbformat_minor": 4
}
