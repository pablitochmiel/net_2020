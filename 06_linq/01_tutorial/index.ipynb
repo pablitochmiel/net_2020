{
 "cells": [
  {
   "cell_type": "markdown",
   "metadata": {},
   "source": [
    "# NET 2020"
   ]
  },
  {
   "cell_type": "markdown",
   "metadata": {},
   "source": [
    "## 6. LINQ"
   ]
  },
  {
   "cell_type": "markdown",
   "metadata": {},
   "source": [
    "### 6.1 Tutorial"
   ]
  },
  {
   "cell_type": "markdown",
   "metadata": {},
   "source": [
    "Simple example:"
   ]
  },
  {
   "cell_type": "code",
   "execution_count": null,
   "metadata": {},
   "outputs": [],
   "source": [
    "var scores = new int[] { 97, 92, 81, 60 };"
   ]
  },
  {
   "cell_type": "code",
   "execution_count": null,
   "metadata": {},
   "outputs": [],
   "source": [
    "from score in scores where score > 80 select score"
   ]
  },
  {
   "cell_type": "markdown",
   "metadata": {},
   "source": [
    "Alternative syntax:"
   ]
  },
  {
   "cell_type": "code",
   "execution_count": null,
   "metadata": {},
   "outputs": [],
   "source": [
    "scores.Where(score => score > 80)"
   ]
  },
  {
   "cell_type": "markdown",
   "metadata": {},
   "source": [
    "Joining two collections:"
   ]
  },
  {
   "cell_type": "code",
   "execution_count": null,
   "metadata": {},
   "outputs": [],
   "source": [
    "struct Subject { public int Id; public string Name; }"
   ]
  },
  {
   "cell_type": "code",
   "execution_count": null,
   "metadata": {},
   "outputs": [],
   "source": [
    "struct Lesson { public int Id; public int SubjectId; public string Name; }"
   ]
  },
  {
   "cell_type": "code",
   "execution_count": null,
   "metadata": {},
   "outputs": [],
   "source": [
    "var subjects = new List<Subject> {\n",
    "    new Subject { Id = 1, Name = \"PHP\" },\n",
    "    new Subject { Id = 2, Name = \"OOP\" }\n",
    "};"
   ]
  },
  {
   "cell_type": "code",
   "execution_count": null,
   "metadata": {},
   "outputs": [],
   "source": [
    "var lessons = new List<Lesson> {\n",
    "    new Lesson { Id = 1, SubjectId = 1, Name = \"Introducction to PHP\" },\n",
    "    new Lesson { Id = 2, SubjectId = 1, Name = \"Superglobals\" },\n",
    "    new Lesson { Id = 3, SubjectId = 1, Name = \"Laravel\" },\n",
    "    new Lesson { Id = 4, SubjectId = 2, Name = \"Introducction to OOP\" },\n",
    "    new Lesson { Id = 5, SubjectId = 2, Name = \"Build system\" },\n",
    "    new Lesson { Id = 6, SubjectId = 2, Name = \"Inheritance\" },\n",
    "    new Lesson { Id = 7, SubjectId = 2, Name = \"Testing\" }\n",
    "};"
   ]
  },
  {
   "cell_type": "markdown",
   "metadata": {},
   "source": [
    "Now we can query the data:"
   ]
  },
  {
   "cell_type": "code",
   "execution_count": null,
   "metadata": {},
   "outputs": [],
   "source": [
    "from subject in subjects select subject.Name"
   ]
  },
  {
   "cell_type": "code",
   "execution_count": null,
   "metadata": {},
   "outputs": [],
   "source": [
    "from subject in subjects\n",
    "join lesson in lessons on subject.Id equals lesson.SubjectId\n",
    "select new {SubjectName = subject.Name, LessonName = lesson.Name}"
   ]
  }
 ],
 "metadata": {
  "kernelspec": {
   "display_name": ".NET (C#)",
   "language": "C#",
   "name": ".net-csharp"
  },
  "language_info": {
   "file_extension": ".cs",
   "mimetype": "text/x-csharp",
   "name": "C#",
   "pygments_lexer": "csharp",
   "version": "8.0"
  }
 },
 "nbformat": 4,
 "nbformat_minor": 4
}
