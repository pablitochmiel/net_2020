{
 "cells": [
  {
   "cell_type": "markdown",
   "metadata": {},
   "source": [
    "# NET 2020"
   ]
  },
  {
   "cell_type": "markdown",
   "metadata": {},
   "source": [
    "## 7. Multithreading"
   ]
  },
  {
   "cell_type": "markdown",
   "metadata": {},
   "source": [
    "### 7.2. Exercise"
   ]
  },
  {
   "cell_type": "markdown",
   "metadata": {},
   "source": [
    "Tasks:\n",
    "\n",
    "1. Add missing code for calculating sum squentially and in parallel (4p):\n",
    "    - ```Sum()``` - simple sequential for-loop (0.25p)\n",
    "    - ```SumForeach()``` - simple sequential foreach-loop (0.25p)\n",
    "    - ```SumLinq()``` - sum using LINQ library (0.25p)\n",
    "    - ```SumThreadsInterlocked()``` - sum using threads and interlocked adding in each step (0.25p)\n",
    "    - ```SumThreads()``` - sum using threads and optimised use of interlocked adding (1p)\n",
    "    - ```SumPoolThreads()``` - sum using thread pool (1p)\n",
    "    - ```SumTpl()``` - sum using Thread Parallel Library (TPL) (1p)\n",
    "2. Analyse the benchmarks results and explain the obtained times and differences in times (2p)\n",
    "\n",
    "Remember first to commit the unchanged code and then the solution in a separate commit!\n",
    "\n",
    "To start editing code, run:"
   ]
  },
  {
   "cell_type": "code",
   "execution_count": null,
   "metadata": {},
   "outputs": [],
   "source": [
    "! rider project/project.sln"
   ]
  }
 ],
 "metadata": {
  "kernelspec": {
   "display_name": "Python 3",
   "language": "python",
   "name": "python3"
  },
  "language_info": {
   "codemirror_mode": {
    "name": "ipython",
    "version": 3
   },
   "file_extension": ".py",
   "mimetype": "text/x-python",
   "name": "python",
   "nbconvert_exporter": "python",
   "pygments_lexer": "ipython3",
   "version": "3.8.3"
  }
 },
 "nbformat": 4,
 "nbformat_minor": 4
}
