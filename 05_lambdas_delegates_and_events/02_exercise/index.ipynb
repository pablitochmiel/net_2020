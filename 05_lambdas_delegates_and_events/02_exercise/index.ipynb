{
 "cells": [
  {
   "cell_type": "markdown",
   "metadata": {},
   "source": [
    "# NET 2020"
   ]
  },
  {
   "cell_type": "markdown",
   "metadata": {},
   "source": [
    "## 5. Lambdas, delegates, events"
   ]
  },
  {
   "cell_type": "markdown",
   "metadata": {},
   "source": [
    "### 5.2. Exercise"
   ]
  },
  {
   "cell_type": "markdown",
   "metadata": {},
   "source": [
    "In this exercise, you should:\n",
    "\n",
    "1. Implement the class hierarchy from the UML diagram\n",
    "2. Create unit tests and get 100% code coverage"
   ]
  },
  {
   "cell_type": "markdown",
   "metadata": {},
   "source": [
    "#### UML"
   ]
  },
  {
   "cell_type": "code",
   "execution_count": 1,
   "metadata": {},
   "outputs": [],
   "source": [
    "import iplantuml"
   ]
  },
  {
   "cell_type": "code",
   "execution_count": 2,
   "metadata": {},
   "outputs": [
    {
     "data": {
      "image/svg+xml": [
       "<svg xmlns=\"http://www.w3.org/2000/svg\" xmlns:xlink=\"http://www.w3.org/1999/xlink\" contentScriptType=\"application/ecmascript\" contentStyleType=\"text/css\" height=\"762px\" preserveAspectRatio=\"none\" style=\"width:730px;height:762px;\" version=\"1.1\" viewBox=\"0 0 730 762\" width=\"730px\" zoomAndPan=\"magnify\"><defs><filter height=\"300%\" id=\"fmwn9imrjly5q\" width=\"300%\" x=\"-1\" y=\"-1\"><feGaussianBlur result=\"blurOut\" stdDeviation=\"2.0\"/><feColorMatrix in=\"blurOut\" result=\"blurOut2\" type=\"matrix\" values=\"0 0 0 0 0 0 0 0 0 0 0 0 0 0 0 0 0 0 .4 0\"/><feOffset dx=\"4.0\" dy=\"4.0\" in=\"blurOut2\" result=\"blurOut3\"/><feBlend in=\"SourceGraphic\" in2=\"blurOut3\" mode=\"normal\"/></filter></defs><g><!--MD5=[99b31deea5d7419a569cd5090bf83263]\n",
       "cluster System--><polygon fill=\"#FFFFFF\" filter=\"url(#fmwn9imrjly5q)\" points=\"96.9069,537,162.9069,537,169.9069,559.2969,380.9064,559.2969,380.9064,636,96.9069,636,96.9069,537\" style=\"stroke: #000000; stroke-width: 1.5;\"/><line style=\"stroke: #000000; stroke-width: 1.5;\" x1=\"96.9069\" x2=\"169.9069\" y1=\"559.2969\" y2=\"559.2969\"/><text fill=\"#000000\" font-family=\"sans-serif\" font-size=\"14\" font-weight=\"bold\" lengthAdjust=\"spacingAndGlyphs\" textLength=\"60\" x=\"100.9069\" y=\"551.9951\">System</text><!--MD5=[c3b38b7feda5d8eacaed8a1a154aa642]\n",
       "class System.EventHandler--><rect codeLine=\"9\" fill=\"#FEFECE\" filter=\"url(#fmwn9imrjly5q)\" height=\"48\" id=\"System.EventHandler\" style=\"stroke: #A80036; stroke-width: 1.5;\" width=\"123\" x=\"241.4064\" y=\"572\"/><ellipse cx=\"256.4064\" cy=\"588\" fill=\"#ADD1B2\" rx=\"11\" ry=\"11\" style=\"stroke: #A80036; stroke-width: 1.0;\"/><path d=\"M258.7502,583.6719 C257.8127,583.2344 257.2189,583.0938 256.3439,583.0938 C253.7189,583.0938 251.7189,585.1719 251.7189,587.8906 L251.7189,589.0156 C251.7189,591.5938 253.8283,593.4844 256.7189,593.4844 C257.9377,593.4844 259.0939,593.1875 259.8439,592.6406 C260.4221,592.2344 260.7502,591.7813 260.7502,591.3906 C260.7502,590.9375 260.3596,590.5469 259.8908,590.5469 C259.6721,590.5469 259.4689,590.625 259.2814,590.8125 C258.8283,591.2969 258.8283,591.2969 258.6408,591.3906 C258.2189,591.6563 257.5314,591.7813 256.7658,591.7813 C254.7189,591.7813 253.4221,590.6875 253.4221,588.9844 L253.4221,587.8906 C253.4221,586.1094 254.6721,584.7969 256.4064,584.7969 C256.9846,584.7969 257.5939,584.9531 258.0627,585.2031 C258.5471,585.4844 258.7189,585.7031 258.8127,586.1094 C258.8752,586.5156 258.9064,586.6406 259.0471,586.7656 C259.1877,586.9063 259.4221,587.0156 259.6408,587.0156 C259.9064,587.0156 260.1721,586.875 260.3439,586.6563 C260.4533,586.5 260.4846,586.3125 260.4846,585.8906 L260.4846,584.4688 C260.4846,584.0313 260.4689,583.9063 260.3752,583.75 C260.2189,583.4844 259.9377,583.3438 259.6408,583.3438 C259.3439,583.3438 259.1408,583.4375 258.9221,583.75 L258.7502,583.6719 Z \"/><text fill=\"#000000\" font-family=\"sans-serif\" font-size=\"12\" lengthAdjust=\"spacingAndGlyphs\" textLength=\"80\" x=\"270.4064\" y=\"592.1543\">EventHandler</text><rect fill=\"#FFFFFF\" height=\"15.9688\" style=\"stroke: #000000; stroke-width: 1.0; stroke-dasharray: 2.0,2.0;\" width=\"9\" x=\"358.4064\" y=\"569\"/><text fill=\"#000000\" font-family=\"sans-serif\" font-size=\"12\" font-style=\"italic\" lengthAdjust=\"spacingAndGlyphs\" textLength=\"7\" x=\"359.4064\" y=\"581.1387\">T</text><line style=\"stroke: #A80036; stroke-width: 1.5;\" x1=\"242.4064\" x2=\"363.4064\" y1=\"604\" y2=\"604\"/><line style=\"stroke: #A80036; stroke-width: 1.5;\" x1=\"242.4064\" x2=\"363.4064\" y1=\"612\" y2=\"612\"/><!--MD5=[2c30c6c25cbff6d0f829457306444186]\n",
       "class System.EventArgs--><rect codeLine=\"21\" fill=\"#FEFECE\" filter=\"url(#fmwn9imrjly5q)\" height=\"48\" id=\"System.EventArgs\" style=\"stroke: #A80036; stroke-width: 1.5;\" width=\"93\" x=\"113.4069\" y=\"572\"/><ellipse cx=\"128.4069\" cy=\"588\" fill=\"#ADD1B2\" rx=\"11\" ry=\"11\" style=\"stroke: #A80036; stroke-width: 1.0;\"/><path d=\"M130.7507,583.6719 C129.8132,583.2344 129.2194,583.0938 128.3444,583.0938 C125.7194,583.0938 123.7194,585.1719 123.7194,587.8906 L123.7194,589.0156 C123.7194,591.5938 125.8288,593.4844 128.7194,593.4844 C129.9382,593.4844 131.0944,593.1875 131.8444,592.6406 C132.4226,592.2344 132.7507,591.7813 132.7507,591.3906 C132.7507,590.9375 132.3601,590.5469 131.8913,590.5469 C131.6726,590.5469 131.4694,590.625 131.2819,590.8125 C130.8288,591.2969 130.8288,591.2969 130.6413,591.3906 C130.2194,591.6563 129.5319,591.7813 128.7663,591.7813 C126.7194,591.7813 125.4226,590.6875 125.4226,588.9844 L125.4226,587.8906 C125.4226,586.1094 126.6726,584.7969 128.4069,584.7969 C128.9851,584.7969 129.5944,584.9531 130.0632,585.2031 C130.5476,585.4844 130.7194,585.7031 130.8132,586.1094 C130.8757,586.5156 130.9069,586.6406 131.0476,586.7656 C131.1882,586.9063 131.4226,587.0156 131.6413,587.0156 C131.9069,587.0156 132.1726,586.875 132.3444,586.6563 C132.4538,586.5 132.4851,586.3125 132.4851,585.8906 L132.4851,584.4688 C132.4851,584.0313 132.4694,583.9063 132.3757,583.75 C132.2194,583.4844 131.9382,583.3438 131.6413,583.3438 C131.3444,583.3438 131.1413,583.4375 130.9226,583.75 L130.7507,583.6719 Z \"/><text fill=\"#000000\" font-family=\"sans-serif\" font-size=\"12\" lengthAdjust=\"spacingAndGlyphs\" textLength=\"61\" x=\"142.4069\" y=\"592.1543\">EventArgs</text><line style=\"stroke: #A80036; stroke-width: 1.5;\" x1=\"114.4069\" x2=\"205.4069\" y1=\"604\" y2=\"604\"/><line style=\"stroke: #A80036; stroke-width: 1.5;\" x1=\"114.4069\" x2=\"205.4069\" y1=\"612\" y2=\"612\"/><!--MD5=[90ba54f54370e77ef24813dec6818fa3]\n",
       "class Button--><rect codeLine=\"1\" fill=\"#FEFECE\" filter=\"url(#fmwn9imrjly5q)\" height=\"99.2188\" id=\"Button\" style=\"stroke: #A80036; stroke-width: 1.5;\" width=\"323\" x=\"141.4064\" y=\"375\"/><ellipse cx=\"279.6564\" cy=\"391\" fill=\"#ADD1B2\" rx=\"11\" ry=\"11\" style=\"stroke: #A80036; stroke-width: 1.0;\"/><path d=\"M282.0002,386.6719 C281.0627,386.2344 280.4689,386.0938 279.5939,386.0938 C276.9689,386.0938 274.9689,388.1719 274.9689,390.8906 L274.9689,392.0156 C274.9689,394.5938 277.0783,396.4844 279.9689,396.4844 C281.1877,396.4844 282.3439,396.1875 283.0939,395.6406 C283.6721,395.2344 284.0002,394.7813 284.0002,394.3906 C284.0002,393.9375 283.6096,393.5469 283.1408,393.5469 C282.9221,393.5469 282.7189,393.625 282.5314,393.8125 C282.0783,394.2969 282.0783,394.2969 281.8908,394.3906 C281.4689,394.6563 280.7814,394.7813 280.0158,394.7813 C277.9689,394.7813 276.6721,393.6875 276.6721,391.9844 L276.6721,390.8906 C276.6721,389.1094 277.9221,387.7969 279.6564,387.7969 C280.2346,387.7969 280.8439,387.9531 281.3127,388.2031 C281.7971,388.4844 281.9689,388.7031 282.0627,389.1094 C282.1252,389.5156 282.1564,389.6406 282.2971,389.7656 C282.4377,389.9063 282.6721,390.0156 282.8908,390.0156 C283.1564,390.0156 283.4221,389.875 283.5939,389.6563 C283.7033,389.5 283.7346,389.3125 283.7346,388.8906 L283.7346,387.4688 C283.7346,387.0313 283.7189,386.9063 283.6252,386.75 C283.4689,386.4844 283.1877,386.3438 282.8908,386.3438 C282.5939,386.3438 282.3908,386.4375 282.1721,386.75 L282.0002,386.6719 Z \"/><text fill=\"#000000\" font-family=\"sans-serif\" font-size=\"12\" lengthAdjust=\"spacingAndGlyphs\" textLength=\"38\" x=\"300.1564\" y=\"395.1543\">Button</text><line style=\"stroke: #A80036; stroke-width: 1.5;\" x1=\"142.4064\" x2=\"463.4064\" y1=\"407\" y2=\"407\"/><ellipse cx=\"152.4064\" cy=\"418\" fill=\"none\" rx=\"3\" ry=\"3\" style=\"stroke: #038048; stroke-width: 1.0;\"/><text fill=\"#000000\" font-family=\"sans-serif\" font-size=\"11\" lengthAdjust=\"spacingAndGlyphs\" textLength=\"103\" x=\"161.4064\" y=\"421.2104\">«get» string Label</text><ellipse cx=\"152.4064\" cy=\"430.8047\" fill=\"none\" rx=\"3\" ry=\"3\" style=\"stroke: #038048; stroke-width: 1.0;\"/><text fill=\"#000000\" font-family=\"sans-serif\" font-size=\"11\" lengthAdjust=\"spacingAndGlyphs\" textLength=\"297\" x=\"161.4064\" y=\"434.0151\">«event» EventHandler&lt;ClickedEventArgs&gt;? Clicked</text><line style=\"stroke: #A80036; stroke-width: 1.5;\" x1=\"142.4064\" x2=\"463.4064\" y1=\"440.6094\" y2=\"440.6094\"/><ellipse cx=\"152.4064\" cy=\"451.6094\" fill=\"#84BE84\" rx=\"3\" ry=\"3\" style=\"stroke: #038048; stroke-width: 1.0;\"/><text fill=\"#000000\" font-family=\"sans-serif\" font-size=\"11\" lengthAdjust=\"spacingAndGlyphs\" textLength=\"62\" x=\"161.4064\" y=\"454.8198\">void Click()</text><polygon fill=\"#FFFF44\" points=\"152.4064,459.4141,156.4064,463.4141,152.4064,467.4141,148.4064,463.4141\" style=\"stroke: #B38D22; stroke-width: 1.0;\"/><text fill=\"#000000\" font-family=\"sans-serif\" font-size=\"11\" lengthAdjust=\"spacingAndGlyphs\" textLength=\"146\" x=\"161.4064\" y=\"467.6245\">«virtual» void OnClicked()</text><!--MD5=[e8877d0f88b5d88b1f6058383abc9cbe]\n",
       "class LoggingButton--><rect codeLine=\"14\" fill=\"#FEFECE\" filter=\"url(#fmwn9imrjly5q)\" height=\"60.8047\" id=\"LoggingButton\" style=\"stroke: #A80036; stroke-width: 1.5;\" width=\"185\" x=\"399.4064\" y=\"565.5\"/><ellipse cx=\"444.6564\" cy=\"581.5\" fill=\"#ADD1B2\" rx=\"11\" ry=\"11\" style=\"stroke: #A80036; stroke-width: 1.0;\"/><path d=\"M447.0002,577.1719 C446.0627,576.7344 445.4689,576.5938 444.5939,576.5938 C441.9689,576.5938 439.9689,578.6719 439.9689,581.3906 L439.9689,582.5156 C439.9689,585.0938 442.0783,586.9844 444.9689,586.9844 C446.1877,586.9844 447.3439,586.6875 448.0939,586.1406 C448.6721,585.7344 449.0002,585.2813 449.0002,584.8906 C449.0002,584.4375 448.6096,584.0469 448.1408,584.0469 C447.9221,584.0469 447.7189,584.125 447.5314,584.3125 C447.0783,584.7969 447.0783,584.7969 446.8908,584.8906 C446.4689,585.1563 445.7814,585.2813 445.0158,585.2813 C442.9689,585.2813 441.6721,584.1875 441.6721,582.4844 L441.6721,581.3906 C441.6721,579.6094 442.9221,578.2969 444.6564,578.2969 C445.2346,578.2969 445.8439,578.4531 446.3127,578.7031 C446.7971,578.9844 446.9689,579.2031 447.0627,579.6094 C447.1252,580.0156 447.1564,580.1406 447.2971,580.2656 C447.4377,580.4063 447.6721,580.5156 447.8908,580.5156 C448.1564,580.5156 448.4221,580.375 448.5939,580.1563 C448.7033,580 448.7346,579.8125 448.7346,579.3906 L448.7346,577.9688 C448.7346,577.5313 448.7189,577.4063 448.6252,577.25 C448.4689,576.9844 448.1877,576.8438 447.8908,576.8438 C447.5939,576.8438 447.3908,576.9375 447.1721,577.25 L447.0002,577.1719 Z \"/><text fill=\"#000000\" font-family=\"sans-serif\" font-size=\"12\" lengthAdjust=\"spacingAndGlyphs\" textLength=\"86\" x=\"465.1564\" y=\"585.6543\">LoggingButton</text><line style=\"stroke: #A80036; stroke-width: 1.5;\" x1=\"400.4064\" x2=\"583.4064\" y1=\"597.5\" y2=\"597.5\"/><line style=\"stroke: #A80036; stroke-width: 1.5;\" x1=\"400.4064\" x2=\"583.4064\" y1=\"605.5\" y2=\"605.5\"/><polygon fill=\"#FFFF44\" points=\"410.4064,611.5,414.4064,615.5,410.4064,619.5,406.4064,615.5\" style=\"stroke: #B38D22; stroke-width: 1.0;\"/><text fill=\"#000000\" font-family=\"sans-serif\" font-size=\"11\" lengthAdjust=\"spacingAndGlyphs\" textLength=\"159\" x=\"419.4064\" y=\"619.7104\">«override» void OnClicked()</text><!--MD5=[3fece49f36d3569b06f69ec6d3e9956c]\n",
       "class ClickedEventArgs--><rect codeLine=\"24\" fill=\"#FEFECE\" filter=\"url(#fmwn9imrjly5q)\" height=\"60.8047\" id=\"ClickedEventArgs\" style=\"stroke: #A80036; stroke-width: 1.5;\" width=\"137\" x=\"91.4069\" y=\"687.5\"/><ellipse cx=\"106.4069\" cy=\"703.5\" fill=\"#ADD1B2\" rx=\"11\" ry=\"11\" style=\"stroke: #A80036; stroke-width: 1.0;\"/><path d=\"M108.7507,699.1719 C107.8132,698.7344 107.2194,698.5938 106.3444,698.5938 C103.7194,698.5938 101.7194,700.6719 101.7194,703.3906 L101.7194,704.5156 C101.7194,707.0938 103.8288,708.9844 106.7194,708.9844 C107.9382,708.9844 109.0944,708.6875 109.8444,708.1406 C110.4226,707.7344 110.7507,707.2813 110.7507,706.8906 C110.7507,706.4375 110.3601,706.0469 109.8913,706.0469 C109.6726,706.0469 109.4694,706.125 109.2819,706.3125 C108.8288,706.7969 108.8288,706.7969 108.6413,706.8906 C108.2194,707.1563 107.5319,707.2813 106.7663,707.2813 C104.7194,707.2813 103.4226,706.1875 103.4226,704.4844 L103.4226,703.3906 C103.4226,701.6094 104.6726,700.2969 106.4069,700.2969 C106.9851,700.2969 107.5944,700.4531 108.0632,700.7031 C108.5476,700.9844 108.7194,701.2031 108.8132,701.6094 C108.8757,702.0156 108.9069,702.1406 109.0476,702.2656 C109.1882,702.4063 109.4226,702.5156 109.6413,702.5156 C109.9069,702.5156 110.1726,702.375 110.3444,702.1563 C110.4538,702 110.4851,701.8125 110.4851,701.3906 L110.4851,699.9688 C110.4851,699.5313 110.4694,699.4063 110.3757,699.25 C110.2194,698.9844 109.9382,698.8438 109.6413,698.8438 C109.3444,698.8438 109.1413,698.9375 108.9226,699.25 L108.7507,699.1719 Z \"/><text fill=\"#000000\" font-family=\"sans-serif\" font-size=\"12\" lengthAdjust=\"spacingAndGlyphs\" textLength=\"105\" x=\"120.4069\" y=\"707.6543\">ClickedEventArgs</text><line style=\"stroke: #A80036; stroke-width: 1.5;\" x1=\"92.4069\" x2=\"227.4069\" y1=\"719.5\" y2=\"719.5\"/><ellipse cx=\"102.4069\" cy=\"730.5\" fill=\"none\" rx=\"3\" ry=\"3\" style=\"stroke: #038048; stroke-width: 1.0;\"/><text fill=\"#000000\" font-family=\"sans-serif\" font-size=\"11\" lengthAdjust=\"spacingAndGlyphs\" textLength=\"103\" x=\"111.4069\" y=\"733.7104\">«get» string Label</text><line style=\"stroke: #A80036; stroke-width: 1.5;\" x1=\"92.4069\" x2=\"227.4069\" y1=\"740.3047\" y2=\"740.3047\"/><!--MD5=[fa22f29c53ed6d2510bea2e0aa245b7f]\n",
       "class Window--><rect codeLine=\"30\" fill=\"#FEFECE\" filter=\"url(#fmwn9imrjly5q)\" height=\"176.0469\" id=\"Window\" style=\"stroke: #A80036; stroke-width: 1.5;\" width=\"358\" x=\"338.9064\" y=\"122\"/><ellipse cx=\"489.6564\" cy=\"138\" fill=\"#ADD1B2\" rx=\"11\" ry=\"11\" style=\"stroke: #A80036; stroke-width: 1.0;\"/><path d=\"M492.0002,133.6719 C491.0627,133.2344 490.4689,133.0938 489.5939,133.0938 C486.9689,133.0938 484.9689,135.1719 484.9689,137.8906 L484.9689,139.0156 C484.9689,141.5938 487.0783,143.4844 489.9689,143.4844 C491.1877,143.4844 492.3439,143.1875 493.0939,142.6406 C493.6721,142.2344 494.0002,141.7813 494.0002,141.3906 C494.0002,140.9375 493.6096,140.5469 493.1408,140.5469 C492.9221,140.5469 492.7189,140.625 492.5314,140.8125 C492.0783,141.2969 492.0783,141.2969 491.8908,141.3906 C491.4689,141.6563 490.7814,141.7813 490.0158,141.7813 C487.9689,141.7813 486.6721,140.6875 486.6721,138.9844 L486.6721,137.8906 C486.6721,136.1094 487.9221,134.7969 489.6564,134.7969 C490.2346,134.7969 490.8439,134.9531 491.3127,135.2031 C491.7971,135.4844 491.9689,135.7031 492.0627,136.1094 C492.1252,136.5156 492.1564,136.6406 492.2971,136.7656 C492.4377,136.9063 492.6721,137.0156 492.8908,137.0156 C493.1564,137.0156 493.4221,136.875 493.5939,136.6563 C493.7033,136.5 493.7346,136.3125 493.7346,135.8906 L493.7346,134.4688 C493.7346,134.0313 493.7189,133.9063 493.6252,133.75 C493.4689,133.4844 493.1877,133.3438 492.8908,133.3438 C492.5939,133.3438 492.3908,133.4375 492.1721,133.75 L492.0002,133.6719 Z \"/><text fill=\"#000000\" font-family=\"sans-serif\" font-size=\"12\" lengthAdjust=\"spacingAndGlyphs\" textLength=\"48\" x=\"510.1564\" y=\"142.1543\">Window</text><line style=\"stroke: #A80036; stroke-width: 1.5;\" x1=\"339.9064\" x2=\"695.9064\" y1=\"154\" y2=\"154\"/><rect fill=\"#F24D5C\" height=\"6\" style=\"stroke: #C82930; stroke-width: 1.0;\" width=\"6\" x=\"346.9064\" y=\"162\"/><text fill=\"#000000\" font-family=\"sans-serif\" font-size=\"11\" lengthAdjust=\"spacingAndGlyphs\" textLength=\"332\" x=\"358.9064\" y=\"168.2104\">void ButtonOk_Clicked(object sender, ClickedEventArgs e)</text><rect fill=\"#F24D5C\" height=\"6\" style=\"stroke: #C82930; stroke-width: 1.0;\" width=\"6\" x=\"346.9064\" y=\"174.8047\"/><text fill=\"#000000\" font-family=\"sans-serif\" font-size=\"11\" lengthAdjust=\"spacingAndGlyphs\" textLength=\"332\" x=\"358.9064\" y=\"181.0151\">void ButtonOk_Clicked(object sender, ClickedEventArgs e)</text><ellipse cx=\"349.9064\" cy=\"207.4141\" fill=\"#84BE84\" rx=\"3\" ry=\"3\" style=\"stroke: #038048; stroke-width: 1.0;\"/><text fill=\"#000000\" font-family=\"sans-serif\" font-size=\"11\" lengthAdjust=\"spacingAndGlyphs\" textLength=\"91\" x=\"358.9064\" y=\"210.6245\">SimulateClicks()</text><ellipse cx=\"349.9064\" cy=\"220.2188\" fill=\"none\" rx=\"3\" ry=\"3\" style=\"stroke: #038048; stroke-width: 1.0;\"/><text fill=\"#000000\" font-family=\"sans-serif\" font-size=\"11\" lengthAdjust=\"spacingAndGlyphs\" textLength=\"270\" x=\"358.9064\" y=\"223.4292\">«get» «private set» bool HandledButtonOkClick</text><ellipse cx=\"349.9064\" cy=\"233.0234\" fill=\"none\" rx=\"3\" ry=\"3\" style=\"stroke: #038048; stroke-width: 1.0;\"/><text fill=\"#000000\" font-family=\"sans-serif\" font-size=\"11\" lengthAdjust=\"spacingAndGlyphs\" textLength=\"294\" x=\"358.9064\" y=\"236.2339\">«get» «private set» bool HandledButtonCancelClick</text><line style=\"stroke: #A80036; stroke-width: 1.0;\" x1=\"339.9064\" x2=\"498.4064\" y1=\"194.0117\" y2=\"194.0117\"/><text fill=\"#000000\" font-family=\"sans-serif\" font-size=\"11\" lengthAdjust=\"spacingAndGlyphs\" textLength=\"39\" x=\"498.4064\" y=\"197.3198\">testing</text><line style=\"stroke: #A80036; stroke-width: 1.0;\" x1=\"537.4064\" x2=\"695.9064\" y1=\"194.0117\" y2=\"194.0117\"/><rect fill=\"none\" height=\"6\" style=\"stroke: #C82930; stroke-width: 1.0;\" width=\"6\" x=\"346.9064\" y=\"259.6328\"/><text fill=\"#000000\" font-family=\"sans-serif\" font-size=\"11\" lengthAdjust=\"spacingAndGlyphs\" textLength=\"142\" x=\"358.9064\" y=\"265.8433\">LoggingButton _buttonOk</text><rect fill=\"none\" height=\"6\" style=\"stroke: #C82930; stroke-width: 1.0;\" width=\"6\" x=\"346.9064\" y=\"272.4375\"/><text fill=\"#000000\" font-family=\"sans-serif\" font-size=\"11\" lengthAdjust=\"spacingAndGlyphs\" textLength=\"166\" x=\"358.9064\" y=\"278.6479\">LoggingButton _buttonCancel</text><rect fill=\"#F24D5C\" height=\"6\" style=\"stroke: #C82930; stroke-width: 1.0;\" width=\"6\" x=\"346.9064\" y=\"285.2422\"/><text fill=\"#000000\" font-family=\"sans-serif\" font-size=\"11\" lengthAdjust=\"spacingAndGlyphs\" textLength=\"122\" x=\"358.9064\" y=\"291.4526\">InitializeComponent()</text><line style=\"stroke: #A80036; stroke-width: 1.0;\" x1=\"339.9064\" x2=\"487.9064\" y1=\"249.2305\" y2=\"249.2305\"/><text fill=\"#000000\" font-family=\"sans-serif\" font-size=\"11\" lengthAdjust=\"spacingAndGlyphs\" textLength=\"60\" x=\"487.9064\" y=\"252.5386\">generated</text><line style=\"stroke: #A80036; stroke-width: 1.0;\" x1=\"547.9064\" x2=\"695.9064\" y1=\"249.2305\" y2=\"249.2305\"/><path d=\"M313.9064,6 L313.9064,61.3984 A0,0 0 0 0 313.9064,61.3984 L513.9064,61.3984 L517.9064,121.968 L521.9064,61.3984 L721.9064,61.3984 A0,0 0 0 0 721.9064,61.3984 L721.9064,16 L711.9064,6 L313.9064,6 A0,0 0 0 0 313.9064,6 \" fill=\"#FBFB77\" filter=\"url(#fmwn9imrjly5q)\" style=\"stroke: #A80036; stroke-width: 1.0;\"/><path d=\"M711.9064,6 L711.9064,16 L721.9064,16 L711.9064,6 \" fill=\"#FBFB77\" style=\"stroke: #A80036; stroke-width: 1.0;\"/><text fill=\"#000000\" font-family=\"sans-serif\" font-size=\"13\" lengthAdjust=\"spacingAndGlyphs\" textLength=\"203\" x=\"319.9064\" y=\"23.0669\">This class is split into two parts.</text><text fill=\"#000000\" font-family=\"sans-serif\" font-size=\"13\" lengthAdjust=\"spacingAndGlyphs\" textLength=\"307\" x=\"319.9064\" y=\"38.1997\">One part contains user code for event handlers.</text><text fill=\"#000000\" font-family=\"sans-serif\" font-size=\"13\" lengthAdjust=\"spacingAndGlyphs\" textLength=\"387\" x=\"319.9064\" y=\"53.3325\">Second one contains code that will be generated eg. in WPF.</text><!--MD5=[843425ced03a00f94290096292b5d935]\n",
       "reverse link Button to System.EventHandler--><path codeLine=\"12\" d=\"M302.9064,487.251 C302.9064,516.67 302.9064,550.089 302.9064,571.804 \" fill=\"none\" id=\"Button-backto-System.EventHandler\" style=\"stroke: #A80036; stroke-width: 1.0;\"/><polygon fill=\"#FFFFFF\" points=\"302.9064,474.072,298.9064,480.072,302.9064,486.072,306.9064,480.072,302.9064,474.072\" style=\"stroke: #A80036; stroke-width: 1.0;\"/><!--MD5=[5374787973937e395112d7225a4a5f36]\n",
       "reverse link Button to LoggingButton--><path codeLine=\"18\" d=\"M372.1484,487.598 C401.7404,514.137 434.8994,543.874 458.8094,565.317 \" fill=\"none\" id=\"Button-backto-LoggingButton\" style=\"stroke: #A80036; stroke-width: 1.0;\"/><polygon fill=\"none\" points=\"367.2824,492.636,357.0664,474.072,376.6294,482.214,367.2824,492.636\" style=\"stroke: #A80036; stroke-width: 1.0;\"/><!--MD5=[992ef5780d882b3486be72bad020871b]\n",
       "reverse link System.EventArgs to ClickedEventArgs--><path codeLine=\"28\" d=\"M159.9064,640.213 C159.9064,655.7606 159.9064,672.9434 159.9064,687.1057 \" fill=\"none\" id=\"System.EventArgs-backto-ClickedEventArgs\" style=\"stroke: #A80036; stroke-width: 1.0;\"/><polygon fill=\"none\" points=\"152.9074,640.137,159.9064,620.137,166.9074,640.137,152.9074,640.137\" style=\"stroke: #A80036; stroke-width: 1.0;\"/><!--MD5=[100af88d3aad7459898e894a017e8dcc]\n",
       "reverse link Window to LoggingButton--><path codeLine=\"51\" d=\"M511.1234,311.181 C505.3894,395.866 497.5454,511.721 493.9094,565.431 \" fill=\"none\" id=\"Window-backto-LoggingButton\" style=\"stroke: #A80036; stroke-width: 1.0;\"/><polygon fill=\"#FFFFFF\" points=\"512.0074,298.136,507.6111,303.8519,511.1964,310.1086,515.5928,304.3926,512.0074,298.136\" style=\"stroke: #A80036; stroke-width: 1.0;\"/><!--MD5=[4767e96616efa3d42f4620b24642de2e]\n",
       "link Button to ClickedEventArgs--><path codeLine=\"53\" d=\"M141.2614,453.562 C99.8292,468.86 59.9423,492.494 34.9069,529 C6,571.151 9.4615,599.673 34.9069,644 C46.5385,664.2628 66.2075,679.436 86.5421,690.5438 \" fill=\"none\" id=\"Button-to-ClickedEventArgs\" style=\"stroke: #A80036; stroke-width: 1.0; stroke-dasharray: 7.0,7.0;\"/><polygon fill=\"#A80036\" points=\"91.164,692.9948,85.0868,685.2445,86.7467,690.6523,81.3389,692.3122,91.164,692.9948\" style=\"stroke: #A80036; stroke-width: 1.0;\"/><text fill=\"#000000\" font-family=\"sans-serif\" font-size=\"13\" lengthAdjust=\"spacingAndGlyphs\" textLength=\"60\" x=\"35.9069\" y=\"600.5669\">publishes</text><!--MD5=[a70fd23012a93eed2213d693ca227670]\n",
       "link Window to ClickedEventArgs--><path codeLine=\"54\" d=\"M572.4804,298.415 C624.5884,394.243 684.0184,547.215 601.9064,644 C555.5964,698.586 347.3534,712.4153 233.9994,715.8773 \" fill=\"none\" id=\"Window-to-ClickedEventArgs\" style=\"stroke: #A80036; stroke-width: 1.0; stroke-dasharray: 7.0,7.0;\"/><polygon fill=\"#A80036\" points=\"228.6744,716.0344,237.7893,719.7652,233.6722,715.8858,237.5516,711.7687,228.6744,716.0344\" style=\"stroke: #A80036; stroke-width: 1.0;\"/><text fill=\"#000000\" font-family=\"sans-serif\" font-size=\"13\" lengthAdjust=\"spacingAndGlyphs\" textLength=\"50\" x=\"642.9064\" y=\"517.0669\">handles</text><!--MD5=[afe9faf8d12ca92027f82cf7dda10d46]\n",
       "link Window to Button--><path codeLine=\"55\" d=\"M429.8374,298.045 C404.7334,322.857 378.1674,349.115 355.8624,371.16 \" fill=\"none\" id=\"Window-to-Button\" style=\"stroke: #A80036; stroke-width: 1.0; stroke-dasharray: 7.0,7.0;\"/><polygon fill=\"#A80036\" points=\"352.0354,374.943,361.2491,371.4632,355.5923,371.429,355.6266,365.7722,352.0354,374.943\" style=\"stroke: #A80036; stroke-width: 1.0;\"/><text fill=\"#000000\" font-family=\"sans-serif\" font-size=\"13\" lengthAdjust=\"spacingAndGlyphs\" textLength=\"68\" x=\"397.9064\" y=\"341.0669\">subscribes</text><!--MD5=[46fd1f16f228c4d35d76cc49083e0d25]\n",
       "@startuml\n",
       "class Button {\n",
       "+ <<get>> string Label\n",
       "+ <<event>> EventHandler<ClickedEventArgs>? Clicked\n",
       "+ void Click()\n",
       "# <<virtual>> void OnClicked()\n",
       "}\n",
       "\n",
       "namespace System {\n",
       "class EventHandler<T>\n",
       "}\n",
       "\n",
       "Button o- - System.EventHandler\n",
       "\n",
       "class LoggingButton {\n",
       "# <<override>> void OnClicked()\n",
       "}\n",
       "\n",
       "Button <|- - LoggingButton\n",
       "\n",
       "namespace System {\n",
       "class EventArgs\n",
       "}\n",
       "\n",
       "class ClickedEventArgs {\n",
       "+ <<get>> string Label\n",
       "}\n",
       "\n",
       "System.EventArgs <|- - ClickedEventArgs\n",
       "\n",
       "class Window {\n",
       "- void ButtonOk_Clicked(object sender, ClickedEventArgs e)\n",
       "- void ButtonOk_Clicked(object sender, ClickedEventArgs e)\n",
       "- - testing - -\n",
       "+ SimulateClicks()\n",
       "+ <<get>> <<private set>> bool HandledButtonOkClick\n",
       "+ <<get>> <<private set>> bool HandledButtonCancelClick\n",
       "- - generated - -\n",
       "- LoggingButton _buttonOk\n",
       "- LoggingButton _buttonCancel\n",
       "- InitializeComponent()\n",
       "}\n",
       "\n",
       "note as WindowNote\n",
       "This class is split into two parts.\n",
       "One part contains user code for event handlers.\n",
       "Second one contains code that will be generated eg. in WPF.\n",
       "end note\n",
       "\n",
       "WindowNote - - Window\n",
       "\n",
       "Window o- - LoggingButton\n",
       "\n",
       "Button ..> ClickedEventArgs : publishes\n",
       "Window ..> ClickedEventArgs : handles\n",
       "Window ..> Button : subscribes\n",
       "@enduml\n",
       "\n",
       "PlantUML version 1.2020.20beta2(Unknown compile time)\n",
       "(GPL source distribution)\n",
       "Java Runtime: Java(TM) SE Runtime Environment\n",
       "JVM: Java HotSpot(TM) 64-Bit Server VM\n",
       "Default Encoding: UTF-8\n",
       "Language: en\n",
       "Country: US\n",
       "--></g></svg>"
      ],
      "text/plain": [
       "<IPython.core.display.SVG object>"
      ]
     },
     "execution_count": 2,
     "metadata": {},
     "output_type": "execute_result"
    }
   ],
   "source": [
    "%%plantuml\n",
    "\n",
    "@startuml\n",
    "\n",
    "class Button {\n",
    "+ <<get>> string Label\n",
    "+ <<event>> EventHandler<ClickedEventArgs>? Clicked\n",
    "+ void Click()\n",
    "# <<virtual>> void OnClicked()\n",
    "}\n",
    "\n",
    "namespace System {\n",
    "class EventHandler<T>\n",
    "}\n",
    "\n",
    "Button o-- System.EventHandler\n",
    "\n",
    "class LoggingButton {\n",
    "# <<override>> void OnClicked()\n",
    "}\n",
    "\n",
    "Button <|-- LoggingButton\n",
    "\n",
    "namespace System {\n",
    "class EventArgs\n",
    "}\n",
    "\n",
    "class ClickedEventArgs {\n",
    "+ <<get>> string Label\n",
    "}\n",
    "\n",
    "System.EventArgs <|-- ClickedEventArgs\n",
    "\n",
    "class Window {\n",
    "- void ButtonOk_Clicked(object sender, ClickedEventArgs e)\n",
    "- void ButtonOk_Clicked(object sender, ClickedEventArgs e)\n",
    "-- testing --\n",
    "+ SimulateClicks()\n",
    "+ <<get>> <<private set>> bool HandledButtonOkClick\n",
    "+ <<get>> <<private set>> bool HandledButtonCancelClick\n",
    "-- generated --\n",
    "- LoggingButton _buttonOk\n",
    "- LoggingButton _buttonCancel\n",
    "- InitializeComponent()\n",
    "}\n",
    "\n",
    "note as WindowNote\n",
    "This class is split into two parts.\n",
    "One part contains user code for event handlers.\n",
    "Second one contains code that will be generated eg. in WPF.\n",
    "end note\n",
    "\n",
    "WindowNote -- Window\n",
    "\n",
    "Window o-- LoggingButton\n",
    "\n",
    "Button ..> ClickedEventArgs : publishes\n",
    "Window ..> ClickedEventArgs : handles\n",
    "Window ..> Button : subscribes\n",
    "\n",
    "@enduml"
   ]
  },
  {
   "cell_type": "markdown",
   "metadata": {},
   "source": [
    "Final project structure in my solution:\n",
    "\n",
    "```bash\n",
    "project/\n",
    "├── App\n",
    "│   ├── App.csproj\n",
    "│   └── Program.cs\n",
    "├── project.sln\n",
    "├── Test\n",
    "│   ├── ButtonTest.cs\n",
    "│   ├── LoggingButtonTest.cs\n",
    "│   ├── Test.csproj\n",
    "│   └── WindowTest.cs\n",
    "└── Utils\n",
    "    ├── Button.cs\n",
    "    ├── ClickedEventArgs.cs\n",
    "    ├── LoggingButton.cs\n",
    "    ├── Utils.csproj\n",
    "    ├── Window.cs\n",
    "    └── Window.generated.cs\n",
    "\n",
    "3 directories, 13 files\n",
    "```\n",
    "\n",
    "The ```Window``` is a partial class."
   ]
  },
  {
   "cell_type": "markdown",
   "metadata": {},
   "source": [
    "To start editing the code:"
   ]
  },
  {
   "cell_type": "code",
   "execution_count": null,
   "metadata": {},
   "outputs": [],
   "source": [
    "! rider project/project.sln"
   ]
  }
 ],
 "metadata": {
  "kernelspec": {
   "display_name": "Python 3",
   "language": "python",
   "name": "python3"
  },
  "language_info": {
   "codemirror_mode": {
    "name": "ipython",
    "version": 3
   },
   "file_extension": ".py",
   "mimetype": "text/x-python",
   "name": "python",
   "nbconvert_exporter": "python",
   "pygments_lexer": "ipython3",
   "version": "3.8.3"
  }
 },
 "nbformat": 4,
 "nbformat_minor": 4
}
